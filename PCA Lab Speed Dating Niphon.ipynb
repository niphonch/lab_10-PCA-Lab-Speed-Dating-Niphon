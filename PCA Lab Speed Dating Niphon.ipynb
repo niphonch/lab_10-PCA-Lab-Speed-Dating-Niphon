{
 "cells": [
  {
   "cell_type": "markdown",
   "metadata": {},
   "source": [
    "<img src=\"http://imgur.com/1ZcRyrc.png\" style=\"float: left; margin: 20px; height: 55px\">\n",
    "\n",
    "# PCA Lab: Speed Dating\n",
    "\n",
    "_Authors: Kiefer Katovich (SF)_\n",
    "\n",
    "---"
   ]
  },
  {
   "cell_type": "markdown",
   "metadata": {},
   "source": [
    "Let's practice principal component analysis (PCA) using a data set from Kaggle. PCA is often used to simplify data, reduce noise, and find unmeasured latent variables, so it's important to take the time to understand what's going on.\n",
    "\n",
    "**In this lab, we will:**\n",
    "\n",
    "- Explore how PCA relates to correlation.\n",
    "- Use PCA to perform dimensionality reduction.\n",
    "- Predict whether or not a speed dater likes reading based on the dater's other likes.\n",
    "\n",
    "---"
   ]
  },
  {
   "cell_type": "markdown",
   "metadata": {},
   "source": [
    "### Data Set\n",
    "\n",
    "The data set we're using for this lab is a subset of this [much more detailed speed dating data set](https://www.kaggle.com/annavictoria/speed-dating-experiment). In particular, this contains no information on the actual speed dating itself (i.e., successes with or opinions of other individuals). \n",
    "\n",
    "It also contains no follow-up information where individuals are asked the same questions about themselves again. It only contains information about what an individual enjoys doing, their self-ratings on how desirable they are, and how they think others rate them based on desirability.\n",
    "\n",
    "The columns present in the data are outlined below:\n",
    "\n",
    "FieldName|Description\n",
    "---------|-----------\n",
    "    subject_id                   |   Unique individual identifier.\n",
    "    wave                         |   Meetup ID.\n",
    "    like_sports                  |   Enjoyment of participating in sports.\n",
    "    like_tvsports                |   Enjoyment of watching sports on TV.\n",
    "    like_exercise                |   Enjoyment of exercise.\n",
    "    like_food                    |   Enjoyment of food.\n",
    "    like_museums                 |   Enjoyment of museums.\n",
    "    like_art                     |   Enjoyment of art.\n",
    "    like_hiking                  |   Enjoyment of hiking.\n",
    "    like_gaming                  |   Enjoyment of playing games.\n",
    "    like_clubbing                |   Enjoyment of going clubbing/partying.\n",
    "    like_reading                 |   Enjoyment of reading.\n",
    "    like_tv                      |   Enjoyment of TV in general.\n",
    "    like_theater                 |   Enjoyment of the theater (plays, musicals, etc.).\n",
    "    like_movies                  |   Enjoyment of movies.\n",
    "    like_concerts                |   Enjoyment of concerts.\n",
    "    like_music                   |   Enjoyment of music.\n",
    "    like_shopping                |   Enjoyment of shopping.\n",
    "    like_yoga                    |   Enjoyment of yoga.\n",
    "    subjective_attractiveness    |   How attractive they rate themselves.\n",
    "    subjective_sincerity         |   How sincere they rate themselves.\n",
    "    subjective_intelligence      |   How intelligent they rate themselves.\n",
    "    subjective_fun               |   How fun they rate themselves.\n",
    "    subjective_ambition          |   How ambitious they rate themselves.\n",
    "    objective_attractiveness     |   Perceived rating others would give them on how attractive they are.\n",
    "    objective_sincerity          |   Perceived rating others would give them on how sincere they are.\n",
    "    objective_intelligence       |   Perceived rating others would give them on how intelligent they are.\n",
    "    objective_fun                |   Perceived rating others would give them on how fun they are.\n",
    "    objective_ambition           |   Perceived rating others would give them on how ambitious they are.\n",
    "    \n",
    "There are 551 subjects total.\n",
    "\n",
    "---\n",
    "\n",
    "### 1) Load packages."
   ]
  },
  {
   "cell_type": "code",
   "execution_count": 1,
   "metadata": {},
   "outputs": [],
   "source": [
    "import pandas as pd\n",
    "import numpy as np\n",
    "import matplotlib.pyplot as plt\n",
    "import seaborn as sns\n",
    "\n",
    "\n",
    "from sklearn.linear_model import LinearRegression\n",
    "from sklearn.model_selection import cross_val_score\n",
    "from sklearn.decomposition import PCA\n",
    "\n",
    "sns.set_style(\"whitegrid\")"
   ]
  },
  {
   "cell_type": "markdown",
   "metadata": {},
   "source": [
    "---\n",
    "\n",
    "### 2) Load and clean the speed dating data.\n",
    "\n",
    "- First, remove columns with more than 200 missing values.\n",
    "- Then, remove rows with missing values.\n",
    "- Verify that no rows contain NaNs."
   ]
  },
  {
   "cell_type": "code",
   "execution_count": 2,
   "metadata": {},
   "outputs": [],
   "source": [
    "sd = pd.read_csv('./datasets/speed_dating.csv')\n",
    "\n",
    "# A:"
   ]
  },
  {
   "cell_type": "code",
   "execution_count": 3,
   "metadata": {},
   "outputs": [
    {
     "data": {
      "text/html": [
       "<div>\n",
       "<style scoped>\n",
       "    .dataframe tbody tr th:only-of-type {\n",
       "        vertical-align: middle;\n",
       "    }\n",
       "\n",
       "    .dataframe tbody tr th {\n",
       "        vertical-align: top;\n",
       "    }\n",
       "\n",
       "    .dataframe thead th {\n",
       "        text-align: right;\n",
       "    }\n",
       "</style>\n",
       "<table border=\"1\" class=\"dataframe\">\n",
       "  <thead>\n",
       "    <tr style=\"text-align: right;\">\n",
       "      <th></th>\n",
       "      <th>subject_id</th>\n",
       "      <th>wave</th>\n",
       "      <th>like_sports</th>\n",
       "      <th>like_tvsports</th>\n",
       "      <th>like_exercise</th>\n",
       "      <th>like_food</th>\n",
       "      <th>like_museums</th>\n",
       "      <th>like_art</th>\n",
       "      <th>like_hiking</th>\n",
       "      <th>like_gaming</th>\n",
       "      <th>...</th>\n",
       "      <th>subjective_attractiveness</th>\n",
       "      <th>subjective_sincerity</th>\n",
       "      <th>subjective_intelligence</th>\n",
       "      <th>subjective_fun</th>\n",
       "      <th>subjective_ambition</th>\n",
       "      <th>objective_attractiveness</th>\n",
       "      <th>objective_sincerity</th>\n",
       "      <th>objective_intelligence</th>\n",
       "      <th>objective_fun</th>\n",
       "      <th>objective_ambition</th>\n",
       "    </tr>\n",
       "  </thead>\n",
       "  <tbody>\n",
       "    <tr>\n",
       "      <th>0</th>\n",
       "      <td>1</td>\n",
       "      <td>1</td>\n",
       "      <td>9.0</td>\n",
       "      <td>2.0</td>\n",
       "      <td>8.0</td>\n",
       "      <td>9.0</td>\n",
       "      <td>1.0</td>\n",
       "      <td>1.0</td>\n",
       "      <td>5.0</td>\n",
       "      <td>1.0</td>\n",
       "      <td>...</td>\n",
       "      <td>6.0</td>\n",
       "      <td>8.0</td>\n",
       "      <td>8.0</td>\n",
       "      <td>8.0</td>\n",
       "      <td>7.0</td>\n",
       "      <td>NaN</td>\n",
       "      <td>NaN</td>\n",
       "      <td>NaN</td>\n",
       "      <td>NaN</td>\n",
       "      <td>NaN</td>\n",
       "    </tr>\n",
       "    <tr>\n",
       "      <th>1</th>\n",
       "      <td>2</td>\n",
       "      <td>1</td>\n",
       "      <td>3.0</td>\n",
       "      <td>2.0</td>\n",
       "      <td>7.0</td>\n",
       "      <td>10.0</td>\n",
       "      <td>8.0</td>\n",
       "      <td>6.0</td>\n",
       "      <td>3.0</td>\n",
       "      <td>5.0</td>\n",
       "      <td>...</td>\n",
       "      <td>7.0</td>\n",
       "      <td>5.0</td>\n",
       "      <td>8.0</td>\n",
       "      <td>10.0</td>\n",
       "      <td>3.0</td>\n",
       "      <td>NaN</td>\n",
       "      <td>NaN</td>\n",
       "      <td>NaN</td>\n",
       "      <td>NaN</td>\n",
       "      <td>NaN</td>\n",
       "    </tr>\n",
       "    <tr>\n",
       "      <th>2</th>\n",
       "      <td>3</td>\n",
       "      <td>1</td>\n",
       "      <td>3.0</td>\n",
       "      <td>8.0</td>\n",
       "      <td>7.0</td>\n",
       "      <td>8.0</td>\n",
       "      <td>5.0</td>\n",
       "      <td>5.0</td>\n",
       "      <td>8.0</td>\n",
       "      <td>4.0</td>\n",
       "      <td>...</td>\n",
       "      <td>8.0</td>\n",
       "      <td>9.0</td>\n",
       "      <td>9.0</td>\n",
       "      <td>8.0</td>\n",
       "      <td>8.0</td>\n",
       "      <td>NaN</td>\n",
       "      <td>NaN</td>\n",
       "      <td>NaN</td>\n",
       "      <td>NaN</td>\n",
       "      <td>NaN</td>\n",
       "    </tr>\n",
       "    <tr>\n",
       "      <th>3</th>\n",
       "      <td>4</td>\n",
       "      <td>1</td>\n",
       "      <td>1.0</td>\n",
       "      <td>1.0</td>\n",
       "      <td>6.0</td>\n",
       "      <td>7.0</td>\n",
       "      <td>6.0</td>\n",
       "      <td>7.0</td>\n",
       "      <td>7.0</td>\n",
       "      <td>5.0</td>\n",
       "      <td>...</td>\n",
       "      <td>7.0</td>\n",
       "      <td>8.0</td>\n",
       "      <td>7.0</td>\n",
       "      <td>9.0</td>\n",
       "      <td>8.0</td>\n",
       "      <td>NaN</td>\n",
       "      <td>NaN</td>\n",
       "      <td>NaN</td>\n",
       "      <td>NaN</td>\n",
       "      <td>NaN</td>\n",
       "    </tr>\n",
       "    <tr>\n",
       "      <th>4</th>\n",
       "      <td>5</td>\n",
       "      <td>1</td>\n",
       "      <td>7.0</td>\n",
       "      <td>4.0</td>\n",
       "      <td>7.0</td>\n",
       "      <td>7.0</td>\n",
       "      <td>6.0</td>\n",
       "      <td>8.0</td>\n",
       "      <td>6.0</td>\n",
       "      <td>6.0</td>\n",
       "      <td>...</td>\n",
       "      <td>6.0</td>\n",
       "      <td>3.0</td>\n",
       "      <td>10.0</td>\n",
       "      <td>6.0</td>\n",
       "      <td>8.0</td>\n",
       "      <td>NaN</td>\n",
       "      <td>NaN</td>\n",
       "      <td>NaN</td>\n",
       "      <td>NaN</td>\n",
       "      <td>NaN</td>\n",
       "    </tr>\n",
       "  </tbody>\n",
       "</table>\n",
       "<p>5 rows × 29 columns</p>\n",
       "</div>"
      ],
      "text/plain": [
       "   subject_id  wave  like_sports  like_tvsports  like_exercise  like_food  \\\n",
       "0           1     1          9.0            2.0            8.0        9.0   \n",
       "1           2     1          3.0            2.0            7.0       10.0   \n",
       "2           3     1          3.0            8.0            7.0        8.0   \n",
       "3           4     1          1.0            1.0            6.0        7.0   \n",
       "4           5     1          7.0            4.0            7.0        7.0   \n",
       "\n",
       "   like_museums  like_art  like_hiking  like_gaming  ...  \\\n",
       "0           1.0       1.0          5.0          1.0  ...   \n",
       "1           8.0       6.0          3.0          5.0  ...   \n",
       "2           5.0       5.0          8.0          4.0  ...   \n",
       "3           6.0       7.0          7.0          5.0  ...   \n",
       "4           6.0       8.0          6.0          6.0  ...   \n",
       "\n",
       "   subjective_attractiveness  subjective_sincerity  subjective_intelligence  \\\n",
       "0                        6.0                   8.0                      8.0   \n",
       "1                        7.0                   5.0                      8.0   \n",
       "2                        8.0                   9.0                      9.0   \n",
       "3                        7.0                   8.0                      7.0   \n",
       "4                        6.0                   3.0                     10.0   \n",
       "\n",
       "   subjective_fun  subjective_ambition  objective_attractiveness  \\\n",
       "0             8.0                  7.0                       NaN   \n",
       "1            10.0                  3.0                       NaN   \n",
       "2             8.0                  8.0                       NaN   \n",
       "3             9.0                  8.0                       NaN   \n",
       "4             6.0                  8.0                       NaN   \n",
       "\n",
       "   objective_sincerity  objective_intelligence  objective_fun  \\\n",
       "0                  NaN                     NaN            NaN   \n",
       "1                  NaN                     NaN            NaN   \n",
       "2                  NaN                     NaN            NaN   \n",
       "3                  NaN                     NaN            NaN   \n",
       "4                  NaN                     NaN            NaN   \n",
       "\n",
       "   objective_ambition  \n",
       "0                 NaN  \n",
       "1                 NaN  \n",
       "2                 NaN  \n",
       "3                 NaN  \n",
       "4                 NaN  \n",
       "\n",
       "[5 rows x 29 columns]"
      ]
     },
     "execution_count": 3,
     "metadata": {},
     "output_type": "execute_result"
    }
   ],
   "source": [
    "sd.head()"
   ]
  },
  {
   "cell_type": "code",
   "execution_count": 4,
   "metadata": {},
   "outputs": [
    {
     "name": "stdout",
     "output_type": "stream",
     "text": [
      "<class 'pandas.core.frame.DataFrame'>\n",
      "RangeIndex: 551 entries, 0 to 550\n",
      "Data columns (total 29 columns):\n",
      " #   Column                     Non-Null Count  Dtype  \n",
      "---  ------                     --------------  -----  \n",
      " 0   subject_id                 551 non-null    int64  \n",
      " 1   wave                       551 non-null    int64  \n",
      " 2   like_sports                544 non-null    float64\n",
      " 3   like_tvsports              544 non-null    float64\n",
      " 4   like_exercise              544 non-null    float64\n",
      " 5   like_food                  544 non-null    float64\n",
      " 6   like_museums               544 non-null    float64\n",
      " 7   like_art                   544 non-null    float64\n",
      " 8   like_hiking                544 non-null    float64\n",
      " 9   like_gaming                544 non-null    float64\n",
      " 10  like_clubbing              544 non-null    float64\n",
      " 11  like_reading               544 non-null    float64\n",
      " 12  like_tv                    544 non-null    float64\n",
      " 13  like_theater               544 non-null    float64\n",
      " 14  like_movies                544 non-null    float64\n",
      " 15  like_concerts              544 non-null    float64\n",
      " 16  like_music                 544 non-null    float64\n",
      " 17  like_shopping              544 non-null    float64\n",
      " 18  like_yoga                  544 non-null    float64\n",
      " 19  subjective_attractiveness  542 non-null    float64\n",
      " 20  subjective_sincerity       542 non-null    float64\n",
      " 21  subjective_intelligence    542 non-null    float64\n",
      " 22  subjective_fun             542 non-null    float64\n",
      " 23  subjective_ambition        542 non-null    float64\n",
      " 24  objective_attractiveness   314 non-null    float64\n",
      " 25  objective_sincerity        314 non-null    float64\n",
      " 26  objective_intelligence     314 non-null    float64\n",
      " 27  objective_fun              314 non-null    float64\n",
      " 28  objective_ambition         314 non-null    float64\n",
      "dtypes: float64(27), int64(2)\n",
      "memory usage: 125.0 KB\n"
     ]
    }
   ],
   "source": [
    "sd.info()"
   ]
  },
  {
   "cell_type": "code",
   "execution_count": 5,
   "metadata": {
    "scrolled": true
   },
   "outputs": [
    {
     "data": {
      "text/plain": [
       "subject_id                     0\n",
       "wave                           0\n",
       "like_sports                    7\n",
       "like_tvsports                  7\n",
       "like_exercise                  7\n",
       "like_food                      7\n",
       "like_museums                   7\n",
       "like_art                       7\n",
       "like_hiking                    7\n",
       "like_gaming                    7\n",
       "like_clubbing                  7\n",
       "like_reading                   7\n",
       "like_tv                        7\n",
       "like_theater                   7\n",
       "like_movies                    7\n",
       "like_concerts                  7\n",
       "like_music                     7\n",
       "like_shopping                  7\n",
       "like_yoga                      7\n",
       "subjective_attractiveness      9\n",
       "subjective_sincerity           9\n",
       "subjective_intelligence        9\n",
       "subjective_fun                 9\n",
       "subjective_ambition            9\n",
       "objective_attractiveness     237\n",
       "objective_sincerity          237\n",
       "objective_intelligence       237\n",
       "objective_fun                237\n",
       "objective_ambition           237\n",
       "dtype: int64"
      ]
     },
     "execution_count": 5,
     "metadata": {},
     "output_type": "execute_result"
    }
   ],
   "source": [
    "sd.isnull().sum()"
   ]
  },
  {
   "cell_type": "code",
   "execution_count": 6,
   "metadata": {},
   "outputs": [],
   "source": [
    "#remove columns with more than 200 missing values.\n",
    "sd.drop(columns =['objective_attractiveness','objective_sincerity', 'objective_intelligence', 'objective_fun', 'objective_ambition'], inplace = True)"
   ]
  },
  {
   "cell_type": "code",
   "execution_count": 7,
   "metadata": {},
   "outputs": [],
   "source": [
    "#remove rows with missing values\n",
    "sd.dropna(inplace=True)"
   ]
  },
  {
   "cell_type": "code",
   "execution_count": 8,
   "metadata": {},
   "outputs": [
    {
     "data": {
      "text/plain": [
       "0"
      ]
     },
     "execution_count": 8,
     "metadata": {},
     "output_type": "execute_result"
    }
   ],
   "source": [
    "#Verify that no rows contain NaNs\n",
    "sd.isnull().sum().sum()"
   ]
  },
  {
   "cell_type": "markdown",
   "metadata": {},
   "source": [
    "---\n",
    "\n",
    "### 3) Example: Are the `subjective` columns correlated?\n",
    "\n",
    "Here, we'll understand how the `subjective` columns are correlated.\n",
    "\n",
    "- Find the z scores of each `subjective` column (i.e. standardize the `subjective` columns).\n",
    "- Visualize correlation using [PairGrid](https://seaborn.pydata.org/generated/seaborn.PairGrid.html).\n",
    "- Visualize correlation using a heat map."
   ]
  },
  {
   "cell_type": "markdown",
   "metadata": {},
   "source": [
    "**3.A) Find the z scores of each column. This allows the columns to more easily be directly compared.**"
   ]
  },
  {
   "cell_type": "code",
   "execution_count": 9,
   "metadata": {
    "scrolled": true
   },
   "outputs": [],
   "source": [
    "subjective_cols = [col for col in sd.columns if col.startswith('subjective')]\n",
    "subjective = sd[subjective_cols]\n",
    "subjective = (subjective - subjective.mean()) / subjective.std()"
   ]
  },
  {
   "cell_type": "code",
   "execution_count": 10,
   "metadata": {},
   "outputs": [
    {
     "data": {
      "text/html": [
       "<div>\n",
       "<style scoped>\n",
       "    .dataframe tbody tr th:only-of-type {\n",
       "        vertical-align: middle;\n",
       "    }\n",
       "\n",
       "    .dataframe tbody tr th {\n",
       "        vertical-align: top;\n",
       "    }\n",
       "\n",
       "    .dataframe thead th {\n",
       "        text-align: right;\n",
       "    }\n",
       "</style>\n",
       "<table border=\"1\" class=\"dataframe\">\n",
       "  <thead>\n",
       "    <tr style=\"text-align: right;\">\n",
       "      <th></th>\n",
       "      <th>subjective_attractiveness</th>\n",
       "      <th>subjective_sincerity</th>\n",
       "      <th>subjective_intelligence</th>\n",
       "      <th>subjective_fun</th>\n",
       "      <th>subjective_ambition</th>\n",
       "    </tr>\n",
       "  </thead>\n",
       "  <tbody>\n",
       "    <tr>\n",
       "      <th>0</th>\n",
       "      <td>-0.785746</td>\n",
       "      <td>-0.202528</td>\n",
       "      <td>-0.353867</td>\n",
       "      <td>0.193145</td>\n",
       "      <td>-0.323290</td>\n",
       "    </tr>\n",
       "    <tr>\n",
       "      <th>1</th>\n",
       "      <td>-0.066364</td>\n",
       "      <td>-2.327117</td>\n",
       "      <td>-0.353867</td>\n",
       "      <td>1.485544</td>\n",
       "      <td>-2.562565</td>\n",
       "    </tr>\n",
       "    <tr>\n",
       "      <th>2</th>\n",
       "      <td>0.653019</td>\n",
       "      <td>0.505668</td>\n",
       "      <td>0.563817</td>\n",
       "      <td>0.193145</td>\n",
       "      <td>0.236529</td>\n",
       "    </tr>\n",
       "    <tr>\n",
       "      <th>3</th>\n",
       "      <td>-0.066364</td>\n",
       "      <td>-0.202528</td>\n",
       "      <td>-1.271551</td>\n",
       "      <td>0.839344</td>\n",
       "      <td>0.236529</td>\n",
       "    </tr>\n",
       "    <tr>\n",
       "      <th>4</th>\n",
       "      <td>-0.785746</td>\n",
       "      <td>-3.743510</td>\n",
       "      <td>1.481501</td>\n",
       "      <td>-1.099255</td>\n",
       "      <td>0.236529</td>\n",
       "    </tr>\n",
       "    <tr>\n",
       "      <th>...</th>\n",
       "      <td>...</td>\n",
       "      <td>...</td>\n",
       "      <td>...</td>\n",
       "      <td>...</td>\n",
       "      <td>...</td>\n",
       "    </tr>\n",
       "    <tr>\n",
       "      <th>546</th>\n",
       "      <td>2.091784</td>\n",
       "      <td>1.213864</td>\n",
       "      <td>1.481501</td>\n",
       "      <td>1.485544</td>\n",
       "      <td>1.356166</td>\n",
       "    </tr>\n",
       "    <tr>\n",
       "      <th>547</th>\n",
       "      <td>-0.066364</td>\n",
       "      <td>1.213864</td>\n",
       "      <td>0.563817</td>\n",
       "      <td>0.193145</td>\n",
       "      <td>0.796347</td>\n",
       "    </tr>\n",
       "    <tr>\n",
       "      <th>548</th>\n",
       "      <td>-0.066364</td>\n",
       "      <td>-0.910725</td>\n",
       "      <td>-1.271551</td>\n",
       "      <td>-0.453055</td>\n",
       "      <td>-0.323290</td>\n",
       "    </tr>\n",
       "    <tr>\n",
       "      <th>549</th>\n",
       "      <td>-0.066364</td>\n",
       "      <td>-0.202528</td>\n",
       "      <td>-0.353867</td>\n",
       "      <td>-3.037853</td>\n",
       "      <td>-1.442927</td>\n",
       "    </tr>\n",
       "    <tr>\n",
       "      <th>550</th>\n",
       "      <td>0.653019</td>\n",
       "      <td>-0.910725</td>\n",
       "      <td>-1.271551</td>\n",
       "      <td>-1.099255</td>\n",
       "      <td>-0.323290</td>\n",
       "    </tr>\n",
       "  </tbody>\n",
       "</table>\n",
       "<p>542 rows × 5 columns</p>\n",
       "</div>"
      ],
      "text/plain": [
       "     subjective_attractiveness  subjective_sincerity  subjective_intelligence  \\\n",
       "0                    -0.785746             -0.202528                -0.353867   \n",
       "1                    -0.066364             -2.327117                -0.353867   \n",
       "2                     0.653019              0.505668                 0.563817   \n",
       "3                    -0.066364             -0.202528                -1.271551   \n",
       "4                    -0.785746             -3.743510                 1.481501   \n",
       "..                         ...                   ...                      ...   \n",
       "546                   2.091784              1.213864                 1.481501   \n",
       "547                  -0.066364              1.213864                 0.563817   \n",
       "548                  -0.066364             -0.910725                -1.271551   \n",
       "549                  -0.066364             -0.202528                -0.353867   \n",
       "550                   0.653019             -0.910725                -1.271551   \n",
       "\n",
       "     subjective_fun  subjective_ambition  \n",
       "0          0.193145            -0.323290  \n",
       "1          1.485544            -2.562565  \n",
       "2          0.193145             0.236529  \n",
       "3          0.839344             0.236529  \n",
       "4         -1.099255             0.236529  \n",
       "..              ...                  ...  \n",
       "546        1.485544             1.356166  \n",
       "547        0.193145             0.796347  \n",
       "548       -0.453055            -0.323290  \n",
       "549       -3.037853            -1.442927  \n",
       "550       -1.099255            -0.323290  \n",
       "\n",
       "[542 rows x 5 columns]"
      ]
     },
     "execution_count": 10,
     "metadata": {},
     "output_type": "execute_result"
    }
   ],
   "source": [
    "subjective"
   ]
  },
  {
   "cell_type": "markdown",
   "metadata": {},
   "source": [
    "**3.B) Use a PairGrid to visualize correlation.**"
   ]
  },
  {
   "cell_type": "markdown",
   "metadata": {},
   "source": [
    "[`PairGrid`](https://seaborn.pydata.org/generated/seaborn.PairGrid.html) is more general version of `pairplot`.  For example, you could use the following code, where `subjective` is a data frame containing only the subjective columns:\n",
    "\n",
    "```python\n",
    "g = sns.PairGrid(subjective)\n",
    "# Regression plots in lower triangle\n",
    "g = g.map_lower(sns.regplot) \n",
    "g = g.map_upper(sns.kdeplot, cmap=\"Blues\", shade=True, shade_lowest=False)  # KDE plots in upper triangle\n",
    "g = g.map_diag(plt.hist) # Histograms along diagonal\n",
    "\n",
    "plt.show()\n",
    "```"
   ]
  },
  {
   "cell_type": "code",
   "execution_count": 11,
   "metadata": {},
   "outputs": [
    {
     "data": {
      "image/png": "[encoded data removed]",
      "text/plain": [
       "<Figure size 900x900 with 30 Axes>"
      ]
     },
     "metadata": {},
     "output_type": "display_data"
    }
   ],
   "source": [
    "import warnings\n",
    "warnings.filterwarnings('ignore')\n",
    "g = sns.PairGrid(subjective)\n",
    "# Regression plots in lower triangle\n",
    "g = g.map_lower(sns.regplot) \n",
    "g = g.map_upper(sns.kdeplot, cmap=\"Blues\", shade=True, shade_lowest=False)  # KDE plots in upper triangle\n",
    "g = g.map_diag(plt.hist) # Histograms along diagonal\n",
    "\n",
    "plt.show()"
   ]
  },
  {
   "cell_type": "markdown",
   "metadata": {},
   "source": [
    "**3.C) Use a heat map to visualize correlation.**"
   ]
  },
  {
   "cell_type": "code",
   "execution_count": 12,
   "metadata": {
    "scrolled": true
   },
   "outputs": [
    {
     "data": {
      "image/png": "[encoded data removed]",
      "text/plain": [
       "<Figure size 504x504 with 2 Axes>"
      ]
     },
     "metadata": {},
     "output_type": "display_data"
    }
   ],
   "source": [
    "#correlation heat map\n",
    "cmap = sns.diverging_palette(70,20,s=50, l=40, n=6,as_cmap=True)\n",
    "corrmat= subjective.corr()\n",
    "f, ax = plt.subplots(figsize=(7,7))\n",
    "sns.heatmap(corrmat,cmap=cmap,annot=True, );"
   ]
  },
  {
   "cell_type": "code",
   "execution_count": 13,
   "metadata": {},
   "outputs": [],
   "source": [
    "#Correlation among subjective columns are small to medium"
   ]
  },
  {
   "cell_type": "markdown",
   "metadata": {},
   "source": [
    "---\n",
    "\n",
    "**Important: Did you ensure the results make sense intuitively?** If not, look at the results again. You should **always** interpret your results and ensure they make sense based on what you expected. If they don’t, investigate why — sometimes your analysis or data are wrong.\n",
    "\n",
    "> For example, the results show that believing you are attractive and fun are correlated. Would you expect that believing you are intellectual and fun to have a higher or lower correlation? What do the results say?\n",
    "\n",
    "---\n",
    "\n",
    "\n",
    "### 4) Visualize some preference columns.\n",
    "\n",
    "Next, we’ll explore how some preference ratings are correlated. You saw an example — now try it on the `preference_cols` below.\n",
    "\n",
    "- Find the z scores of each column in `preference_cols`.\n",
    "- Visualize correlation using PairGrid.\n",
    "- Visualize correlation using a heat map.\n",
    "- Do these results make sense intuitively? "
   ]
  },
  {
   "cell_type": "code",
   "execution_count": 14,
   "metadata": {},
   "outputs": [],
   "source": [
    "preference_cols = ['like_tvsports', 'like_sports', 'like_museums', \n",
    "                   'like_theater', 'like_shopping']\n",
    "\n",
    "sd_like_original = sd[preference_cols]  # keep original number\n",
    "sd_like = sd[preference_cols]"
   ]
  },
  {
   "cell_type": "markdown",
   "metadata": {
    "collapsed": true
   },
   "source": [
    "**4.A) Find the z scores of each column in `preference_cols`.**"
   ]
  },
  {
   "cell_type": "code",
   "execution_count": 15,
   "metadata": {},
   "outputs": [],
   "source": [
    "#Find the z scores of each column in preference_cols\n",
    "sd_like  = (sd_like - sd_like .mean()) / sd_like .std()"
   ]
  },
  {
   "cell_type": "code",
   "execution_count": 16,
   "metadata": {},
   "outputs": [
    {
     "data": {
      "text/html": [
       "<div>\n",
       "<style scoped>\n",
       "    .dataframe tbody tr th:only-of-type {\n",
       "        vertical-align: middle;\n",
       "    }\n",
       "\n",
       "    .dataframe tbody tr th {\n",
       "        vertical-align: top;\n",
       "    }\n",
       "\n",
       "    .dataframe thead th {\n",
       "        text-align: right;\n",
       "    }\n",
       "</style>\n",
       "<table border=\"1\" class=\"dataframe\">\n",
       "  <thead>\n",
       "    <tr style=\"text-align: right;\">\n",
       "      <th></th>\n",
       "      <th>like_tvsports</th>\n",
       "      <th>like_sports</th>\n",
       "      <th>like_museums</th>\n",
       "      <th>like_theater</th>\n",
       "      <th>like_shopping</th>\n",
       "    </tr>\n",
       "  </thead>\n",
       "  <tbody>\n",
       "    <tr>\n",
       "      <th>count</th>\n",
       "      <td>542.00</td>\n",
       "      <td>542.00</td>\n",
       "      <td>542.00</td>\n",
       "      <td>542.00</td>\n",
       "      <td>542.00</td>\n",
       "    </tr>\n",
       "    <tr>\n",
       "      <th>mean</th>\n",
       "      <td>-0.00</td>\n",
       "      <td>0.00</td>\n",
       "      <td>-0.00</td>\n",
       "      <td>-0.00</td>\n",
       "      <td>0.00</td>\n",
       "    </tr>\n",
       "    <tr>\n",
       "      <th>std</th>\n",
       "      <td>1.00</td>\n",
       "      <td>1.00</td>\n",
       "      <td>1.00</td>\n",
       "      <td>1.00</td>\n",
       "      <td>1.00</td>\n",
       "    </tr>\n",
       "    <tr>\n",
       "      <th>min</th>\n",
       "      <td>-1.27</td>\n",
       "      <td>-2.05</td>\n",
       "      <td>-2.93</td>\n",
       "      <td>-2.56</td>\n",
       "      <td>-1.76</td>\n",
       "    </tr>\n",
       "    <tr>\n",
       "      <th>25%</th>\n",
       "      <td>-0.91</td>\n",
       "      <td>-0.82</td>\n",
       "      <td>-0.48</td>\n",
       "      <td>-0.79</td>\n",
       "      <td>-0.62</td>\n",
       "    </tr>\n",
       "    <tr>\n",
       "      <th>50%</th>\n",
       "      <td>-0.20</td>\n",
       "      <td>0.23</td>\n",
       "      <td>0.01</td>\n",
       "      <td>0.10</td>\n",
       "      <td>0.15</td>\n",
       "    </tr>\n",
       "    <tr>\n",
       "      <th>75%</th>\n",
       "      <td>0.87</td>\n",
       "      <td>0.61</td>\n",
       "      <td>0.86</td>\n",
       "      <td>0.98</td>\n",
       "      <td>0.91</td>\n",
       "    </tr>\n",
       "    <tr>\n",
       "      <th>max</th>\n",
       "      <td>1.94</td>\n",
       "      <td>1.37</td>\n",
       "      <td>1.48</td>\n",
       "      <td>1.43</td>\n",
       "      <td>1.68</td>\n",
       "    </tr>\n",
       "  </tbody>\n",
       "</table>\n",
       "</div>"
      ],
      "text/plain": [
       "       like_tvsports  like_sports  like_museums  like_theater  like_shopping\n",
       "count         542.00       542.00        542.00        542.00         542.00\n",
       "mean           -0.00         0.00         -0.00         -0.00           0.00\n",
       "std             1.00         1.00          1.00          1.00           1.00\n",
       "min            -1.27        -2.05         -2.93         -2.56          -1.76\n",
       "25%            -0.91        -0.82         -0.48         -0.79          -0.62\n",
       "50%            -0.20         0.23          0.01          0.10           0.15\n",
       "75%             0.87         0.61          0.86          0.98           0.91\n",
       "max             1.94         1.37          1.48          1.43           1.68"
      ]
     },
     "execution_count": 16,
     "metadata": {},
     "output_type": "execute_result"
    }
   ],
   "source": [
    "sd_like.describe().round(2)"
   ]
  },
  {
   "cell_type": "markdown",
   "metadata": {},
   "source": [
    "**4.B) Visualize correlation using PairGrid.**"
   ]
  },
  {
   "cell_type": "code",
   "execution_count": 17,
   "metadata": {
    "scrolled": true
   },
   "outputs": [
    {
     "data": {
      "image/png": "[encoded data removed]",
      "text/plain": [
       "<Figure size 900x900 with 30 Axes>"
      ]
     },
     "metadata": {},
     "output_type": "display_data"
    }
   ],
   "source": [
    "#Visualize correlation using PairGrid\n",
    "g = sns.PairGrid(sd_like)\n",
    "# Regression plots in lower triangle\n",
    "g = g.map_lower(sns.regplot) \n",
    "g = g.map_upper(sns.kdeplot, cmap=\"Blues\", shade=True, shade_lowest=False)  # KDE plots in upper triangle\n",
    "g = g.map_diag(plt.hist) # Histograms along diagonal\n",
    "\n",
    "plt.show()"
   ]
  },
  {
   "cell_type": "markdown",
   "metadata": {},
   "source": [
    "**4.C) Visualize correlation using a heat map.**"
   ]
  },
  {
   "cell_type": "code",
   "execution_count": 18,
   "metadata": {},
   "outputs": [
    {
     "data": {
      "image/png": "[encoded data removed]",
      "text/plain": [
       "<Figure size 504x504 with 2 Axes>"
      ]
     },
     "metadata": {},
     "output_type": "display_data"
    }
   ],
   "source": [
    "#correlation heat map\n",
    "cmap = sns.diverging_palette(70,20,s=50, l=40, n=6,as_cmap=True)\n",
    "corrmat= sd_like.corr()\n",
    "f, ax = plt.subplots(figsize=(7,7))\n",
    "sns.heatmap(corrmat,cmap=cmap,annot=True, );"
   ]
  },
  {
   "cell_type": "code",
   "execution_count": 19,
   "metadata": {},
   "outputs": [],
   "source": [
    "#Correlation among sd_like data are small to medium"
   ]
  },
  {
   "cell_type": "markdown",
   "metadata": {},
   "source": [
    "---\n",
    "\n",
    "### 5) Example: Fit PCA on the subjective ratings."
   ]
  },
  {
   "cell_type": "code",
   "execution_count": 20,
   "metadata": {},
   "outputs": [
    {
     "data": {
      "text/html": [
       "<style>#sk-container-id-1 {color: black;background-color: white;}#sk-container-id-1 pre{padding: 0;}#sk-container-id-1 div.sk-toggleable {background-color: white;}#sk-container-id-1 label.sk-toggleable__label {cursor: pointer;display: block;width: 100%;margin-bottom: 0;padding: 0.3em;box-sizing: border-box;text-align: center;}#sk-container-id-1 label.sk-toggleable__label-arrow:before {content: \"▸\";float: left;margin-right: 0.25em;color: #696969;}#sk-container-id-1 label.sk-toggleable__label-arrow:hover:before {color: black;}#sk-container-id-1 div.sk-estimator:hover label.sk-toggleable__label-arrow:before {color: black;}#sk-container-id-1 div.sk-toggleable__content {max-height: 0;max-width: 0;overflow: hidden;text-align: left;background-color: #f0f8ff;}#sk-container-id-1 div.sk-toggleable__content pre {margin: 0.2em;color: black;border-radius: 0.25em;background-color: #f0f8ff;}#sk-container-id-1 input.sk-toggleable__control:checked~div.sk-toggleable__content {max-height: 200px;max-width: 100%;overflow: auto;}#sk-container-id-1 input.sk-toggleable__control:checked~label.sk-toggleable__label-arrow:before {content: \"▾\";}#sk-container-id-1 div.sk-estimator input.sk-toggleable__control:checked~label.sk-toggleable__label {background-color: #d4ebff;}#sk-container-id-1 div.sk-label input.sk-toggleable__control:checked~label.sk-toggleable__label {background-color: #d4ebff;}#sk-container-id-1 input.sk-hidden--visually {border: 0;clip: rect(1px 1px 1px 1px);clip: rect(1px, 1px, 1px, 1px);height: 1px;margin: -1px;overflow: hidden;padding: 0;position: absolute;width: 1px;}#sk-container-id-1 div.sk-estimator {font-family: monospace;background-color: #f0f8ff;border: 1px dotted black;border-radius: 0.25em;box-sizing: border-box;margin-bottom: 0.5em;}#sk-container-id-1 div.sk-estimator:hover {background-color: #d4ebff;}#sk-container-id-1 div.sk-parallel-item::after {content: \"\";width: 100%;border-bottom: 1px solid gray;flex-grow: 1;}#sk-container-id-1 div.sk-label:hover label.sk-toggleable__label {background-color: #d4ebff;}#sk-container-id-1 div.sk-serial::before {content: \"\";position: absolute;border-left: 1px solid gray;box-sizing: border-box;top: 0;bottom: 0;left: 50%;z-index: 0;}#sk-container-id-1 div.sk-serial {display: flex;flex-direction: column;align-items: center;background-color: white;padding-right: 0.2em;padding-left: 0.2em;position: relative;}#sk-container-id-1 div.sk-item {position: relative;z-index: 1;}#sk-container-id-1 div.sk-parallel {display: flex;align-items: stretch;justify-content: center;background-color: white;position: relative;}#sk-container-id-1 div.sk-item::before, #sk-container-id-1 div.sk-parallel-item::before {content: \"\";position: absolute;border-left: 1px solid gray;box-sizing: border-box;top: 0;bottom: 0;left: 50%;z-index: -1;}#sk-container-id-1 div.sk-parallel-item {display: flex;flex-direction: column;z-index: 1;position: relative;background-color: white;}#sk-container-id-1 div.sk-parallel-item:first-child::after {align-self: flex-end;width: 50%;}#sk-container-id-1 div.sk-parallel-item:last-child::after {align-self: flex-start;width: 50%;}#sk-container-id-1 div.sk-parallel-item:only-child::after {width: 0;}#sk-container-id-1 div.sk-dashed-wrapped {border: 1px dashed gray;margin: 0 0.4em 0.5em 0.4em;box-sizing: border-box;padding-bottom: 0.4em;background-color: white;}#sk-container-id-1 div.sk-label label {font-family: monospace;font-weight: bold;display: inline-block;line-height: 1.2em;}#sk-container-id-1 div.sk-label-container {text-align: center;}#sk-container-id-1 div.sk-container {/* jupyter's `normalize.less` sets `[hidden] { display: none; }` but bootstrap.min.css set `[hidden] { display: none !important; }` so we also need the `!important` here to be able to override the default hidden behavior on the sphinx rendered scikit-learn.org. See: https://github.com/scikit-learn/scikit-learn/issues/21755 */display: inline-block !important;position: relative;}#sk-container-id-1 div.sk-text-repr-fallback {display: none;}</style><div id=\"sk-container-id-1\" class=\"sk-top-container\"><div class=\"sk-text-repr-fallback\"><pre>PCA(n_components=5)</pre><b>In a Jupyter environment, please rerun this cell to show the HTML representation or trust the notebook. <br />On GitHub, the HTML representation is unable to render, please try loading this page with nbviewer.org.</b></div><div class=\"sk-container\" hidden><div class=\"sk-item\"><div class=\"sk-estimator sk-toggleable\"><input class=\"sk-toggleable__control sk-hidden--visually\" id=\"sk-estimator-id-1\" type=\"checkbox\" checked><label for=\"sk-estimator-id-1\" class=\"sk-toggleable__label sk-toggleable__label-arrow\">PCA</label><div class=\"sk-toggleable__content\"><pre>PCA(n_components=5)</pre></div></div></div></div></div>"
      ],
      "text/plain": [
       "PCA(n_components=5)"
      ]
     },
     "execution_count": 20,
     "metadata": {},
     "output_type": "execute_result"
    }
   ],
   "source": [
    "subjective_pca = PCA(n_components=5)\n",
    "subjective_pca.fit(subjective.values)"
   ]
  },
  {
   "cell_type": "markdown",
   "metadata": {},
   "source": [
    "---\n",
    "\n",
    "**5.A) Look at the weights of the principal components.**\n",
    "\n",
    "The principal components (or eigenvectors!) are simply the weights or coefficients on the original variables $X$ that transforms them to $Z$."
   ]
  },
  {
   "cell_type": "code",
   "execution_count": 21,
   "metadata": {},
   "outputs": [
    {
     "name": "stdout",
     "output_type": "stream",
     "text": [
      "Eigenvalue: [2.15642881 0.88760955 0.73684686 0.72096547 0.4981493 ]\n"
     ]
    }
   ],
   "source": [
    "\n",
    "sub_eigenvalues = subjective_pca.explained_variance_\n",
    "\n",
    "print(f'Eigenvalue: {sub_eigenvalues}')\n"
   ]
  },
  {
   "cell_type": "markdown",
   "metadata": {},
   "source": [
    "---\n",
    "\n",
    "**5.B) Look at the explained variance values (aka eigenvalues) and the explained variance ratios.**\n",
    "\n",
    "The eigenvalues are ordered such that the first components have the largest eigenvalues. The values and their normalized equivalent in the explained variance ratio attribute tell you how much of the variance in the original data is encapsulated in the new component variables."
   ]
  },
  {
   "cell_type": "code",
   "execution_count": 22,
   "metadata": {},
   "outputs": [
    {
     "name": "stdout",
     "output_type": "stream",
     "text": [
      "Explained variance: [0.431 0.178 0.147 0.144 0.1  ]\n"
     ]
    }
   ],
   "source": [
    "var_exp = subjective_pca.explained_variance_ratio_\n",
    "print(f'Explained variance: {np.round(var_exp,3)}')"
   ]
  },
  {
   "cell_type": "code",
   "execution_count": 23,
   "metadata": {},
   "outputs": [
    {
     "name": "stdout",
     "output_type": "stream",
     "text": [
      "Cumulative explained variance: [0.431 0.609 0.756 0.9   1.   ]\n"
     ]
    }
   ],
   "source": [
    "# Generate the cumulative explained variance.\n",
    "cum_var_exp = np.cumsum(var_exp)\n",
    "print(f'Cumulative explained variance: {np.round(cum_var_exp,3)}')"
   ]
  },
  {
   "cell_type": "markdown",
   "metadata": {},
   "source": [
    "---\n",
    "\n",
    "**5.C) Transform the subjective data into the principal component space.**\n",
    "\n",
    "The `transform()` function in the PCA will create your new component variable matrix."
   ]
  },
  {
   "cell_type": "code",
   "execution_count": 24,
   "metadata": {},
   "outputs": [
    {
     "data": {
      "text/html": [
       "<div>\n",
       "<style scoped>\n",
       "    .dataframe tbody tr th:only-of-type {\n",
       "        vertical-align: middle;\n",
       "    }\n",
       "\n",
       "    .dataframe tbody tr th {\n",
       "        vertical-align: top;\n",
       "    }\n",
       "\n",
       "    .dataframe thead th {\n",
       "        text-align: right;\n",
       "    }\n",
       "</style>\n",
       "<table border=\"1\" class=\"dataframe\">\n",
       "  <thead>\n",
       "    <tr style=\"text-align: right;\">\n",
       "      <th></th>\n",
       "      <th>subjective_attractiveness</th>\n",
       "      <th>subjective_sincerity</th>\n",
       "      <th>subjective_intelligence</th>\n",
       "      <th>subjective_fun</th>\n",
       "      <th>subjective_ambition</th>\n",
       "    </tr>\n",
       "  </thead>\n",
       "  <tbody>\n",
       "    <tr>\n",
       "      <th>0</th>\n",
       "      <td>-0.785746</td>\n",
       "      <td>-0.202528</td>\n",
       "      <td>-0.353867</td>\n",
       "      <td>0.193145</td>\n",
       "      <td>-0.323290</td>\n",
       "    </tr>\n",
       "    <tr>\n",
       "      <th>1</th>\n",
       "      <td>-0.066364</td>\n",
       "      <td>-2.327117</td>\n",
       "      <td>-0.353867</td>\n",
       "      <td>1.485544</td>\n",
       "      <td>-2.562565</td>\n",
       "    </tr>\n",
       "    <tr>\n",
       "      <th>2</th>\n",
       "      <td>0.653019</td>\n",
       "      <td>0.505668</td>\n",
       "      <td>0.563817</td>\n",
       "      <td>0.193145</td>\n",
       "      <td>0.236529</td>\n",
       "    </tr>\n",
       "    <tr>\n",
       "      <th>3</th>\n",
       "      <td>-0.066364</td>\n",
       "      <td>-0.202528</td>\n",
       "      <td>-1.271551</td>\n",
       "      <td>0.839344</td>\n",
       "      <td>0.236529</td>\n",
       "    </tr>\n",
       "    <tr>\n",
       "      <th>4</th>\n",
       "      <td>-0.785746</td>\n",
       "      <td>-3.743510</td>\n",
       "      <td>1.481501</td>\n",
       "      <td>-1.099255</td>\n",
       "      <td>0.236529</td>\n",
       "    </tr>\n",
       "  </tbody>\n",
       "</table>\n",
       "</div>"
      ],
      "text/plain": [
       "   subjective_attractiveness  subjective_sincerity  subjective_intelligence  \\\n",
       "0                  -0.785746             -0.202528                -0.353867   \n",
       "1                  -0.066364             -2.327117                -0.353867   \n",
       "2                   0.653019              0.505668                 0.563817   \n",
       "3                  -0.066364             -0.202528                -1.271551   \n",
       "4                  -0.785746             -3.743510                 1.481501   \n",
       "\n",
       "   subjective_fun  subjective_ambition  \n",
       "0        0.193145            -0.323290  \n",
       "1        1.485544            -2.562565  \n",
       "2        0.193145             0.236529  \n",
       "3        0.839344             0.236529  \n",
       "4       -1.099255             0.236529  "
      ]
     },
     "execution_count": 24,
     "metadata": {},
     "output_type": "execute_result"
    }
   ],
   "source": [
    "subjective.head()"
   ]
  },
  {
   "cell_type": "code",
   "execution_count": 25,
   "metadata": {},
   "outputs": [],
   "source": [
    "subjective_transformed = subjective_pca.transform(subjective)"
   ]
  },
  {
   "cell_type": "code",
   "execution_count": 26,
   "metadata": {},
   "outputs": [
    {
     "data": {
      "text/plain": [
       "array([[ 0.67332   ,  0.0343678 , -0.10373029, -0.35765309,  0.5764042 ],\n",
       "       [ 1.34919946,  2.02154958, -2.13681651,  1.07013607,  1.64332003],\n",
       "       [-0.94880298, -0.27121403, -0.03920403,  0.28941005, -0.18491801],\n",
       "       ...,\n",
       "       [ 1.27684985,  0.74775641, -0.3676784 , -0.31756302, -0.57872528],\n",
       "       [ 2.37183879, -0.92161414,  0.44827873,  1.65421516, -1.43835362],\n",
       "       [ 1.22846879,  0.72770379, -0.34579764,  0.16617622, -1.41410545]])"
      ]
     },
     "execution_count": 26,
     "metadata": {},
     "output_type": "execute_result"
    }
   ],
   "source": [
    "subjective_transformed"
   ]
  },
  {
   "cell_type": "markdown",
   "metadata": {},
   "source": [
    "This transformed our five-dimensional data set into vectors along its five principal components (with zero loss).\n",
    "- Using these, we can now reduce the dimensionality of our data while minimizing loss.\n",
    "- For example, taking only the first three eigenvectors accounts for `0.431 + 0.178 + 0.147 = 75.6%` of the variance."
   ]
  },
  {
   "cell_type": "code",
   "execution_count": 27,
   "metadata": {},
   "outputs": [
    {
     "data": {
      "text/html": [
       "<div>\n",
       "<style scoped>\n",
       "    .dataframe tbody tr th:only-of-type {\n",
       "        vertical-align: middle;\n",
       "    }\n",
       "\n",
       "    .dataframe tbody tr th {\n",
       "        vertical-align: top;\n",
       "    }\n",
       "\n",
       "    .dataframe thead th {\n",
       "        text-align: right;\n",
       "    }\n",
       "</style>\n",
       "<table border=\"1\" class=\"dataframe\">\n",
       "  <thead>\n",
       "    <tr style=\"text-align: right;\">\n",
       "      <th></th>\n",
       "      <th>0</th>\n",
       "      <th>1</th>\n",
       "      <th>2</th>\n",
       "      <th>3</th>\n",
       "      <th>4</th>\n",
       "    </tr>\n",
       "  </thead>\n",
       "  <tbody>\n",
       "    <tr>\n",
       "      <th>0</th>\n",
       "      <td>0.673320</td>\n",
       "      <td>0.034368</td>\n",
       "      <td>-0.103730</td>\n",
       "      <td>-0.357653</td>\n",
       "      <td>0.576404</td>\n",
       "    </tr>\n",
       "    <tr>\n",
       "      <th>1</th>\n",
       "      <td>1.349199</td>\n",
       "      <td>2.021550</td>\n",
       "      <td>-2.136817</td>\n",
       "      <td>1.070136</td>\n",
       "      <td>1.643320</td>\n",
       "    </tr>\n",
       "    <tr>\n",
       "      <th>2</th>\n",
       "      <td>-0.948803</td>\n",
       "      <td>-0.271214</td>\n",
       "      <td>-0.039204</td>\n",
       "      <td>0.289410</td>\n",
       "      <td>-0.184918</td>\n",
       "    </tr>\n",
       "    <tr>\n",
       "      <th>3</th>\n",
       "      <td>0.180113</td>\n",
       "      <td>0.571928</td>\n",
       "      <td>-0.734996</td>\n",
       "      <td>-1.233023</td>\n",
       "      <td>-0.050997</td>\n",
       "    </tr>\n",
       "    <tr>\n",
       "      <th>4</th>\n",
       "      <td>1.309749</td>\n",
       "      <td>2.833740</td>\n",
       "      <td>2.162998</td>\n",
       "      <td>1.758585</td>\n",
       "      <td>0.757437</td>\n",
       "    </tr>\n",
       "    <tr>\n",
       "      <th>...</th>\n",
       "      <td>...</td>\n",
       "      <td>...</td>\n",
       "      <td>...</td>\n",
       "      <td>...</td>\n",
       "      <td>...</td>\n",
       "    </tr>\n",
       "    <tr>\n",
       "      <th>537</th>\n",
       "      <td>-3.444376</td>\n",
       "      <td>-0.108831</td>\n",
       "      <td>-0.239742</td>\n",
       "      <td>0.172409</td>\n",
       "      <td>-0.356551</td>\n",
       "    </tr>\n",
       "    <tr>\n",
       "      <th>538</th>\n",
       "      <td>-1.059141</td>\n",
       "      <td>-0.958184</td>\n",
       "      <td>0.504866</td>\n",
       "      <td>-0.409863</td>\n",
       "      <td>0.066780</td>\n",
       "    </tr>\n",
       "    <tr>\n",
       "      <th>539</th>\n",
       "      <td>1.276850</td>\n",
       "      <td>0.747756</td>\n",
       "      <td>-0.367678</td>\n",
       "      <td>-0.317563</td>\n",
       "      <td>-0.578725</td>\n",
       "    </tr>\n",
       "    <tr>\n",
       "      <th>540</th>\n",
       "      <td>2.371839</td>\n",
       "      <td>-0.921614</td>\n",
       "      <td>0.448279</td>\n",
       "      <td>1.654215</td>\n",
       "      <td>-1.438354</td>\n",
       "    </tr>\n",
       "    <tr>\n",
       "      <th>541</th>\n",
       "      <td>1.228469</td>\n",
       "      <td>0.727704</td>\n",
       "      <td>-0.345798</td>\n",
       "      <td>0.166176</td>\n",
       "      <td>-1.414105</td>\n",
       "    </tr>\n",
       "  </tbody>\n",
       "</table>\n",
       "<p>542 rows × 5 columns</p>\n",
       "</div>"
      ],
      "text/plain": [
       "            0         1         2         3         4\n",
       "0    0.673320  0.034368 -0.103730 -0.357653  0.576404\n",
       "1    1.349199  2.021550 -2.136817  1.070136  1.643320\n",
       "2   -0.948803 -0.271214 -0.039204  0.289410 -0.184918\n",
       "3    0.180113  0.571928 -0.734996 -1.233023 -0.050997\n",
       "4    1.309749  2.833740  2.162998  1.758585  0.757437\n",
       "..        ...       ...       ...       ...       ...\n",
       "537 -3.444376 -0.108831 -0.239742  0.172409 -0.356551\n",
       "538 -1.059141 -0.958184  0.504866 -0.409863  0.066780\n",
       "539  1.276850  0.747756 -0.367678 -0.317563 -0.578725\n",
       "540  2.371839 -0.921614  0.448279  1.654215 -1.438354\n",
       "541  1.228469  0.727704 -0.345798  0.166176 -1.414105\n",
       "\n",
       "[542 rows x 5 columns]"
      ]
     },
     "execution_count": 27,
     "metadata": {},
     "output_type": "execute_result"
    }
   ],
   "source": [
    "pd.DataFrame(subjective_transformed)"
   ]
  },
  {
   "cell_type": "markdown",
   "metadata": {},
   "source": [
    "---\n",
    "\n",
    "**5.D) PCA-transformed features are not correlated.**\n",
    "\n",
    "- Keep in mind that each column in the transformed data is no longer correlated.\n",
    "- Compare this to the exploration above where many columns were correlated."
   ]
  },
  {
   "cell_type": "code",
   "execution_count": 28,
   "metadata": {
    "scrolled": true
   },
   "outputs": [
    {
     "data": {
      "image/png": "[encoded data removed]",
      "text/plain": [
       "<Figure size 504x504 with 2 Axes>"
      ]
     },
     "metadata": {},
     "output_type": "display_data"
    }
   ],
   "source": [
    "#correlation heat map\n",
    "cmap = sns.diverging_palette(10,10,s=50, l=40, n=6,as_cmap=True)\n",
    "corrmat= pd.DataFrame(subjective_transformed).corr()\n",
    "f, ax = plt.subplots(figsize=(7,7))\n",
    "sns.heatmap(corrmat,cmap=cmap,annot=True, );"
   ]
  },
  {
   "cell_type": "code",
   "execution_count": null,
   "metadata": {},
   "outputs": [],
   "source": [
    "#Correlation among transformed data are very small"
   ]
  },
  {
   "cell_type": "markdown",
   "metadata": {},
   "source": [
    "---\n",
    "\n",
    "### 6) Optional: How were the data transformed?\n",
    "\n",
    "To demonstrate how the new principal component matrix is created from the original variable columns and the eigenvector weighting matrix, we'll create the first component (PC1) manually.\n",
    "\n",
    "**6.A) Pull out the eigenvector for PC1.**"
   ]
  },
  {
   "cell_type": "code",
   "execution_count": 30,
   "metadata": {},
   "outputs": [
    {
     "data": {
      "text/plain": [
       "array([ 0.67332   ,  0.0343678 , -0.10373029, -0.35765309,  0.5764042 ])"
      ]
     },
     "execution_count": 30,
     "metadata": {},
     "output_type": "execute_result"
    }
   ],
   "source": [
    "subjective_components = subjective_pca.components_\n",
    "confidence_weights = subjective_components[0]\n",
    "\n",
    "person1_pcas = subjective_transformed[0,:]\n",
    "person1_pcas"
   ]
  },
  {
   "cell_type": "markdown",
   "metadata": {},
   "source": [
    "**6.B) Create a DataFrame showing the original values for the subjective variables for `person1`.**"
   ]
  },
  {
   "cell_type": "code",
   "execution_count": 33,
   "metadata": {},
   "outputs": [
    {
     "data": {
      "text/html": [
       "<div>\n",
       "<style scoped>\n",
       "    .dataframe tbody tr th:only-of-type {\n",
       "        vertical-align: middle;\n",
       "    }\n",
       "\n",
       "    .dataframe tbody tr th {\n",
       "        vertical-align: top;\n",
       "    }\n",
       "\n",
       "    .dataframe thead th {\n",
       "        text-align: right;\n",
       "    }\n",
       "</style>\n",
       "<table border=\"1\" class=\"dataframe\">\n",
       "  <thead>\n",
       "    <tr style=\"text-align: right;\">\n",
       "      <th></th>\n",
       "      <th>person1_original</th>\n",
       "    </tr>\n",
       "  </thead>\n",
       "  <tbody>\n",
       "    <tr>\n",
       "      <th>subjective_attractiveness</th>\n",
       "      <td>-0.785746</td>\n",
       "    </tr>\n",
       "    <tr>\n",
       "      <th>subjective_sincerity</th>\n",
       "      <td>-0.202528</td>\n",
       "    </tr>\n",
       "    <tr>\n",
       "      <th>subjective_intelligence</th>\n",
       "      <td>-0.353867</td>\n",
       "    </tr>\n",
       "    <tr>\n",
       "      <th>subjective_fun</th>\n",
       "      <td>0.193145</td>\n",
       "    </tr>\n",
       "    <tr>\n",
       "      <th>subjective_ambition</th>\n",
       "      <td>-0.323290</td>\n",
       "    </tr>\n",
       "  </tbody>\n",
       "</table>\n",
       "</div>"
      ],
      "text/plain": [
       "                           person1_original\n",
       "subjective_attractiveness         -0.785746\n",
       "subjective_sincerity              -0.202528\n",
       "subjective_intelligence           -0.353867\n",
       "subjective_fun                     0.193145\n",
       "subjective_ambition               -0.323290"
      ]
     },
     "execution_count": 33,
     "metadata": {},
     "output_type": "execute_result"
    }
   ],
   "source": [
    "pc1_original_ratings = subjective.iloc[0,:]\n",
    "\n",
    "how_to_make_pc1 = pd.DataFrame({'person1_original': pc1_original_ratings.values},\n",
    "                               index=subjective.columns)\n",
    "how_to_make_pc1"
   ]
  },
  {
   "cell_type": "markdown",
   "metadata": {},
   "source": [
    "**6.C) Add the eigenvector for PC1: the weights by which to multiply each original variable.**\n",
    "\n",
    "Recall that each component is a linear combination of the original variables, multiplied by a \"weight\" defined in the eigenvector of that component."
   ]
  },
  {
   "cell_type": "code",
   "execution_count": 34,
   "metadata": {},
   "outputs": [
    {
     "data": {
      "text/html": [
       "<div>\n",
       "<style scoped>\n",
       "    .dataframe tbody tr th:only-of-type {\n",
       "        vertical-align: middle;\n",
       "    }\n",
       "\n",
       "    .dataframe tbody tr th {\n",
       "        vertical-align: top;\n",
       "    }\n",
       "\n",
       "    .dataframe thead th {\n",
       "        text-align: right;\n",
       "    }\n",
       "</style>\n",
       "<table border=\"1\" class=\"dataframe\">\n",
       "  <thead>\n",
       "    <tr style=\"text-align: right;\">\n",
       "      <th></th>\n",
       "      <th>person1_original</th>\n",
       "      <th>weights_to_make_pc1</th>\n",
       "    </tr>\n",
       "  </thead>\n",
       "  <tbody>\n",
       "    <tr>\n",
       "      <th>subjective_attractiveness</th>\n",
       "      <td>-0.785746</td>\n",
       "      <td>-0.501894</td>\n",
       "    </tr>\n",
       "    <tr>\n",
       "      <th>subjective_sincerity</th>\n",
       "      <td>-0.202528</td>\n",
       "      <td>-0.315290</td>\n",
       "    </tr>\n",
       "    <tr>\n",
       "      <th>subjective_intelligence</th>\n",
       "      <td>-0.353867</td>\n",
       "      <td>-0.467071</td>\n",
       "    </tr>\n",
       "    <tr>\n",
       "      <th>subjective_fun</th>\n",
       "      <td>0.193145</td>\n",
       "      <td>-0.483864</td>\n",
       "    </tr>\n",
       "    <tr>\n",
       "      <th>subjective_ambition</th>\n",
       "      <td>-0.323290</td>\n",
       "      <td>-0.443187</td>\n",
       "    </tr>\n",
       "  </tbody>\n",
       "</table>\n",
       "</div>"
      ],
      "text/plain": [
       "                           person1_original  weights_to_make_pc1\n",
       "subjective_attractiveness         -0.785746            -0.501894\n",
       "subjective_sincerity              -0.202528            -0.315290\n",
       "subjective_intelligence           -0.353867            -0.467071\n",
       "subjective_fun                     0.193145            -0.483864\n",
       "subjective_ambition               -0.323290            -0.443187"
      ]
     },
     "execution_count": 34,
     "metadata": {},
     "output_type": "execute_result"
    }
   ],
   "source": [
    "how_to_make_pc1['weights_to_make_pc1'] = confidence_weights\n",
    "how_to_make_pc1"
   ]
  },
  {
   "cell_type": "markdown",
   "metadata": {},
   "source": [
    "**6.D) Multiply the original variable values by the eigenvector values.**\n",
    "\n",
    "These are the \"pieces\" of PC1 that will be added together to create the new value for that person."
   ]
  },
  {
   "cell_type": "code",
   "execution_count": 35,
   "metadata": {},
   "outputs": [
    {
     "data": {
      "text/html": [
       "<div>\n",
       "<style scoped>\n",
       "    .dataframe tbody tr th:only-of-type {\n",
       "        vertical-align: middle;\n",
       "    }\n",
       "\n",
       "    .dataframe tbody tr th {\n",
       "        vertical-align: top;\n",
       "    }\n",
       "\n",
       "    .dataframe thead th {\n",
       "        text-align: right;\n",
       "    }\n",
       "</style>\n",
       "<table border=\"1\" class=\"dataframe\">\n",
       "  <thead>\n",
       "    <tr style=\"text-align: right;\">\n",
       "      <th></th>\n",
       "      <th>person1_original</th>\n",
       "      <th>weights_to_make_pc1</th>\n",
       "      <th>pieces_of_pc1_value</th>\n",
       "    </tr>\n",
       "  </thead>\n",
       "  <tbody>\n",
       "    <tr>\n",
       "      <th>subjective_attractiveness</th>\n",
       "      <td>-0.785746</td>\n",
       "      <td>-0.501894</td>\n",
       "      <td>0.394361</td>\n",
       "    </tr>\n",
       "    <tr>\n",
       "      <th>subjective_sincerity</th>\n",
       "      <td>-0.202528</td>\n",
       "      <td>-0.315290</td>\n",
       "      <td>0.063855</td>\n",
       "    </tr>\n",
       "    <tr>\n",
       "      <th>subjective_intelligence</th>\n",
       "      <td>-0.353867</td>\n",
       "      <td>-0.467071</td>\n",
       "      <td>0.165281</td>\n",
       "    </tr>\n",
       "    <tr>\n",
       "      <th>subjective_fun</th>\n",
       "      <td>0.193145</td>\n",
       "      <td>-0.483864</td>\n",
       "      <td>-0.093456</td>\n",
       "    </tr>\n",
       "    <tr>\n",
       "      <th>subjective_ambition</th>\n",
       "      <td>-0.323290</td>\n",
       "      <td>-0.443187</td>\n",
       "      <td>0.143278</td>\n",
       "    </tr>\n",
       "  </tbody>\n",
       "</table>\n",
       "</div>"
      ],
      "text/plain": [
       "                           person1_original  weights_to_make_pc1  \\\n",
       "subjective_attractiveness         -0.785746            -0.501894   \n",
       "subjective_sincerity              -0.202528            -0.315290   \n",
       "subjective_intelligence           -0.353867            -0.467071   \n",
       "subjective_fun                     0.193145            -0.483864   \n",
       "subjective_ambition               -0.323290            -0.443187   \n",
       "\n",
       "                           pieces_of_pc1_value  \n",
       "subjective_attractiveness             0.394361  \n",
       "subjective_sincerity                  0.063855  \n",
       "subjective_intelligence               0.165281  \n",
       "subjective_fun                       -0.093456  \n",
       "subjective_ambition                   0.143278  "
      ]
     },
     "execution_count": 35,
     "metadata": {},
     "output_type": "execute_result"
    }
   ],
   "source": [
    "how_to_make_pc1['pieces_of_pc1_value'] = how_to_make_pc1.person1_original * how_to_make_pc1.weights_to_make_pc1\n",
    "how_to_make_pc1"
   ]
  },
  {
   "cell_type": "markdown",
   "metadata": {},
   "source": [
    "**6.E) Sum the original values multiplied by the eigenvector weights to get `person1`’s value for PC1.**"
   ]
  },
  {
   "cell_type": "code",
   "execution_count": 39,
   "metadata": {},
   "outputs": [
    {
     "name": "stdout",
     "output_type": "stream",
     "text": [
      "sum of linear combinations of weights * original values for PC1: 0.6733199961023875\n",
      "person 1 pca variables: 0.6733199961023874\n"
     ]
    }
   ],
   "source": [
    "print(f'sum of linear combinations of weights * original values for PC1: {np.sum(how_to_make_pc1.pieces_of_pc1_value)}')\n",
    "print(f'person 1 pca variables: {person1_pcas[0]}')"
   ]
  },
  {
   "cell_type": "markdown",
   "metadata": {},
   "source": [
    "---\n",
    "\n",
    "### 7) Fit PCA on the preference data.\n",
    "\n",
    "Now that you've seen how it's done, try it yourself!\n",
    "\n",
    "- Find PCA eigenvalues and eigenvectors for the five `sd_like` columns.\n",
    "- Transform the original `sd_like` columns into the principal component space.\n",
    "- Verify that these columns are uncorrelated."
   ]
  },
  {
   "cell_type": "code",
   "execution_count": 40,
   "metadata": {},
   "outputs": [
    {
     "data": {
      "text/html": [
       "<style>#sk-container-id-2 {color: black;background-color: white;}#sk-container-id-2 pre{padding: 0;}#sk-container-id-2 div.sk-toggleable {background-color: white;}#sk-container-id-2 label.sk-toggleable__label {cursor: pointer;display: block;width: 100%;margin-bottom: 0;padding: 0.3em;box-sizing: border-box;text-align: center;}#sk-container-id-2 label.sk-toggleable__label-arrow:before {content: \"▸\";float: left;margin-right: 0.25em;color: #696969;}#sk-container-id-2 label.sk-toggleable__label-arrow:hover:before {color: black;}#sk-container-id-2 div.sk-estimator:hover label.sk-toggleable__label-arrow:before {color: black;}#sk-container-id-2 div.sk-toggleable__content {max-height: 0;max-width: 0;overflow: hidden;text-align: left;background-color: #f0f8ff;}#sk-container-id-2 div.sk-toggleable__content pre {margin: 0.2em;color: black;border-radius: 0.25em;background-color: #f0f8ff;}#sk-container-id-2 input.sk-toggleable__control:checked~div.sk-toggleable__content {max-height: 200px;max-width: 100%;overflow: auto;}#sk-container-id-2 input.sk-toggleable__control:checked~label.sk-toggleable__label-arrow:before {content: \"▾\";}#sk-container-id-2 div.sk-estimator input.sk-toggleable__control:checked~label.sk-toggleable__label {background-color: #d4ebff;}#sk-container-id-2 div.sk-label input.sk-toggleable__control:checked~label.sk-toggleable__label {background-color: #d4ebff;}#sk-container-id-2 input.sk-hidden--visually {border: 0;clip: rect(1px 1px 1px 1px);clip: rect(1px, 1px, 1px, 1px);height: 1px;margin: -1px;overflow: hidden;padding: 0;position: absolute;width: 1px;}#sk-container-id-2 div.sk-estimator {font-family: monospace;background-color: #f0f8ff;border: 1px dotted black;border-radius: 0.25em;box-sizing: border-box;margin-bottom: 0.5em;}#sk-container-id-2 div.sk-estimator:hover {background-color: #d4ebff;}#sk-container-id-2 div.sk-parallel-item::after {content: \"\";width: 100%;border-bottom: 1px solid gray;flex-grow: 1;}#sk-container-id-2 div.sk-label:hover label.sk-toggleable__label {background-color: #d4ebff;}#sk-container-id-2 div.sk-serial::before {content: \"\";position: absolute;border-left: 1px solid gray;box-sizing: border-box;top: 0;bottom: 0;left: 50%;z-index: 0;}#sk-container-id-2 div.sk-serial {display: flex;flex-direction: column;align-items: center;background-color: white;padding-right: 0.2em;padding-left: 0.2em;position: relative;}#sk-container-id-2 div.sk-item {position: relative;z-index: 1;}#sk-container-id-2 div.sk-parallel {display: flex;align-items: stretch;justify-content: center;background-color: white;position: relative;}#sk-container-id-2 div.sk-item::before, #sk-container-id-2 div.sk-parallel-item::before {content: \"\";position: absolute;border-left: 1px solid gray;box-sizing: border-box;top: 0;bottom: 0;left: 50%;z-index: -1;}#sk-container-id-2 div.sk-parallel-item {display: flex;flex-direction: column;z-index: 1;position: relative;background-color: white;}#sk-container-id-2 div.sk-parallel-item:first-child::after {align-self: flex-end;width: 50%;}#sk-container-id-2 div.sk-parallel-item:last-child::after {align-self: flex-start;width: 50%;}#sk-container-id-2 div.sk-parallel-item:only-child::after {width: 0;}#sk-container-id-2 div.sk-dashed-wrapped {border: 1px dashed gray;margin: 0 0.4em 0.5em 0.4em;box-sizing: border-box;padding-bottom: 0.4em;background-color: white;}#sk-container-id-2 div.sk-label label {font-family: monospace;font-weight: bold;display: inline-block;line-height: 1.2em;}#sk-container-id-2 div.sk-label-container {text-align: center;}#sk-container-id-2 div.sk-container {/* jupyter's `normalize.less` sets `[hidden] { display: none; }` but bootstrap.min.css set `[hidden] { display: none !important; }` so we also need the `!important` here to be able to override the default hidden behavior on the sphinx rendered scikit-learn.org. See: https://github.com/scikit-learn/scikit-learn/issues/21755 */display: inline-block !important;position: relative;}#sk-container-id-2 div.sk-text-repr-fallback {display: none;}</style><div id=\"sk-container-id-2\" class=\"sk-top-container\"><div class=\"sk-text-repr-fallback\"><pre>PCA(n_components=5)</pre><b>In a Jupyter environment, please rerun this cell to show the HTML representation or trust the notebook. <br />On GitHub, the HTML representation is unable to render, please try loading this page with nbviewer.org.</b></div><div class=\"sk-container\" hidden><div class=\"sk-item\"><div class=\"sk-estimator sk-toggleable\"><input class=\"sk-toggleable__control sk-hidden--visually\" id=\"sk-estimator-id-2\" type=\"checkbox\" checked><label for=\"sk-estimator-id-2\" class=\"sk-toggleable__label sk-toggleable__label-arrow\">PCA</label><div class=\"sk-toggleable__content\"><pre>PCA(n_components=5)</pre></div></div></div></div></div>"
      ],
      "text/plain": [
       "PCA(n_components=5)"
      ]
     },
     "execution_count": 40,
     "metadata": {},
     "output_type": "execute_result"
    }
   ],
   "source": [
    "sd_like_pca = PCA(n_components=5)\n",
    "sd_like_pca.fit(sd_like.values)"
   ]
  },
  {
   "cell_type": "markdown",
   "metadata": {},
   "source": [
    "#### 7.A) Find PCA eigenvalues and eigenvectors for the five `sd_like` columns."
   ]
  },
  {
   "cell_type": "code",
   "execution_count": 41,
   "metadata": {},
   "outputs": [
    {
     "name": "stdout",
     "output_type": "stream",
     "text": [
      "Eigenvalue: [[ 3.20753112e-01  4.30670129e-01 -5.13289220e-01 -5.73131676e-01\n",
      "  -3.45969565e-01]\n",
      " [ 6.49921628e-01  5.32191987e-01  3.24132297e-01  2.65063681e-01\n",
      "   3.45040672e-01]\n",
      " [ 2.08050622e-05 -1.60309917e-01 -4.54907251e-01 -2.24216382e-01\n",
      "   8.46809977e-01]\n",
      " [ 6.22451715e-01 -5.87488681e-01 -3.38227940e-01  3.33354423e-01\n",
      "  -2.04664607e-01]\n",
      " [ 2.95420347e-01 -4.00565486e-01  5.56896475e-01 -6.63221810e-01\n",
      "   4.77206044e-02]]\n"
     ]
    }
   ],
   "source": [
    "sub_eigenvalues = sd_like_pca.components_\n",
    "\n",
    "print(f'Eigenvalue: {sub_eigenvalues}')"
   ]
  },
  {
   "cell_type": "code",
   "execution_count": 42,
   "metadata": {},
   "outputs": [
    {
     "name": "stdout",
     "output_type": "stream",
     "text": [
      "Explained variance: [0.382 0.268 0.164 0.104 0.082]\n"
     ]
    }
   ],
   "source": [
    "var_exp = sd_like_pca.explained_variance_ratio_\n",
    "print(f'Explained variance: {np.round(var_exp,3)}')"
   ]
  },
  {
   "cell_type": "code",
   "execution_count": 43,
   "metadata": {},
   "outputs": [
    {
     "name": "stdout",
     "output_type": "stream",
     "text": [
      "Cumulative explained variance: [0.382 0.65  0.814 0.918 1.   ]\n"
     ]
    }
   ],
   "source": [
    "# Generate the cumulative explained variance.\n",
    "cum_var_exp = np.cumsum(var_exp)\n",
    "print(f'Cumulative explained variance: {np.round(cum_var_exp,3)}')"
   ]
  },
  {
   "cell_type": "code",
   "execution_count": 44,
   "metadata": {},
   "outputs": [],
   "source": [
    "#Taking only the first three eigenvectors accounts for `0.382 + 0.268 + 0.164 = 81.4%` of the variance."
   ]
  },
  {
   "cell_type": "markdown",
   "metadata": {},
   "source": [
    "#### 7.B) Transform the original `sd_like` columns into the principal component space."
   ]
  },
  {
   "cell_type": "code",
   "execution_count": 45,
   "metadata": {},
   "outputs": [],
   "source": [
    "sd_like_transformed = sd_like_pca.transform(sd_like)"
   ]
  },
  {
   "cell_type": "code",
   "execution_count": 46,
   "metadata": {},
   "outputs": [
    {
     "data": {
      "text/plain": [
       "array([[ 2.79038922, -1.37876855,  2.52125503, -1.19803181, -0.55922863],\n",
       "       [-1.32191571, -1.20239102, -1.0868018 ,  0.55530336, -0.176345  ],\n",
       "       [-0.03460909,  0.13788089,  1.39984296,  1.69857826,  0.31643736],\n",
       "       ...,\n",
       "       [-0.51763293, -0.56328952,  0.18435826, -0.0338901 , -0.0062495 ],\n",
       "       [-0.20740132, -0.92756654,  0.64585092, -1.07518544,  0.23626177],\n",
       "       [-1.02740877,  0.42042795, -0.34332119, -1.50181217,  0.26800644]])"
      ]
     },
     "execution_count": 46,
     "metadata": {},
     "output_type": "execute_result"
    }
   ],
   "source": [
    "sd_like_transformed"
   ]
  },
  {
   "cell_type": "markdown",
   "metadata": {},
   "source": [
    "#### 7.C) Verify that these columns are uncorrelated."
   ]
  },
  {
   "cell_type": "code",
   "execution_count": 47,
   "metadata": {},
   "outputs": [
    {
     "data": {
      "image/png": "[encoded data removed]",
      "text/plain": [
       "<Figure size 504x504 with 2 Axes>"
      ]
     },
     "metadata": {},
     "output_type": "display_data"
    }
   ],
   "source": [
    "#correlation heat map\n",
    "cmap = sns.diverging_palette(10,10,s=50, l=40, n=6,as_cmap=True)\n",
    "corrmat= pd.DataFrame(sd_like_transformed).corr()\n",
    "f, ax = plt.subplots(figsize=(7,7))\n",
    "sns.heatmap(corrmat,cmap=cmap,annot=True, );"
   ]
  },
  {
   "cell_type": "code",
   "execution_count": 48,
   "metadata": {},
   "outputs": [],
   "source": [
    "#Correlation among transformed data are very small, close to zero"
   ]
  },
  {
   "cell_type": "markdown",
   "metadata": {},
   "source": [
    "---\n",
    "\n",
    "### 8) Use PCA for dimensionality reduction.\n",
    "\n",
    "Using linear regression, let's predict whether or not a user likes reading.\n",
    "\n",
    "**The key question:** Can we get the same prediction accuracy using only the first three principal components as features versus using all five original values as features?"
   ]
  },
  {
   "cell_type": "code",
   "execution_count": 49,
   "metadata": {},
   "outputs": [
    {
     "data": {
      "text/html": [
       "<div>\n",
       "<style scoped>\n",
       "    .dataframe tbody tr th:only-of-type {\n",
       "        vertical-align: middle;\n",
       "    }\n",
       "\n",
       "    .dataframe tbody tr th {\n",
       "        vertical-align: top;\n",
       "    }\n",
       "\n",
       "    .dataframe thead th {\n",
       "        text-align: right;\n",
       "    }\n",
       "</style>\n",
       "<table border=\"1\" class=\"dataframe\">\n",
       "  <thead>\n",
       "    <tr style=\"text-align: right;\">\n",
       "      <th></th>\n",
       "      <th>like_tvsports</th>\n",
       "      <th>like_sports</th>\n",
       "      <th>like_museums</th>\n",
       "      <th>like_theater</th>\n",
       "      <th>like_shopping</th>\n",
       "    </tr>\n",
       "  </thead>\n",
       "  <tbody>\n",
       "    <tr>\n",
       "      <th>0</th>\n",
       "      <td>-0.911937</td>\n",
       "      <td>0.991623</td>\n",
       "      <td>-2.932342</td>\n",
       "      <td>-2.558505</td>\n",
       "      <td>0.912411</td>\n",
       "    </tr>\n",
       "    <tr>\n",
       "      <th>1</th>\n",
       "      <td>-0.911937</td>\n",
       "      <td>-1.290584</td>\n",
       "      <td>0.497160</td>\n",
       "      <td>0.984669</td>\n",
       "      <td>-0.999912</td>\n",
       "    </tr>\n",
       "    <tr>\n",
       "      <th>2</th>\n",
       "      <td>1.229305</td>\n",
       "      <td>-1.290584</td>\n",
       "      <td>-0.972626</td>\n",
       "      <td>0.098875</td>\n",
       "      <td>0.912411</td>\n",
       "    </tr>\n",
       "    <tr>\n",
       "      <th>3</th>\n",
       "      <td>-1.268811</td>\n",
       "      <td>-2.051320</td>\n",
       "      <td>-0.482697</td>\n",
       "      <td>0.984669</td>\n",
       "      <td>-1.764841</td>\n",
       "    </tr>\n",
       "    <tr>\n",
       "      <th>4</th>\n",
       "      <td>-0.198190</td>\n",
       "      <td>0.230888</td>\n",
       "      <td>-0.482697</td>\n",
       "      <td>-0.344021</td>\n",
       "      <td>0.912411</td>\n",
       "    </tr>\n",
       "    <tr>\n",
       "      <th>...</th>\n",
       "      <td>...</td>\n",
       "      <td>...</td>\n",
       "      <td>...</td>\n",
       "      <td>...</td>\n",
       "      <td>...</td>\n",
       "    </tr>\n",
       "    <tr>\n",
       "      <th>546</th>\n",
       "      <td>1.229305</td>\n",
       "      <td>1.371991</td>\n",
       "      <td>-1.952484</td>\n",
       "      <td>-1.229815</td>\n",
       "      <td>-0.617447</td>\n",
       "    </tr>\n",
       "    <tr>\n",
       "      <th>547</th>\n",
       "      <td>0.158684</td>\n",
       "      <td>0.611255</td>\n",
       "      <td>0.007231</td>\n",
       "      <td>0.541772</td>\n",
       "      <td>0.912411</td>\n",
       "    </tr>\n",
       "    <tr>\n",
       "      <th>548</th>\n",
       "      <td>-0.555064</td>\n",
       "      <td>-0.529848</td>\n",
       "      <td>0.007231</td>\n",
       "      <td>0.098875</td>\n",
       "      <td>0.147482</td>\n",
       "    </tr>\n",
       "    <tr>\n",
       "      <th>549</th>\n",
       "      <td>-1.268811</td>\n",
       "      <td>-0.149480</td>\n",
       "      <td>0.007231</td>\n",
       "      <td>-0.786918</td>\n",
       "      <td>0.529946</td>\n",
       "    </tr>\n",
       "    <tr>\n",
       "      <th>550</th>\n",
       "      <td>-0.911937</td>\n",
       "      <td>0.611255</td>\n",
       "      <td>1.477018</td>\n",
       "      <td>0.098875</td>\n",
       "      <td>0.529946</td>\n",
       "    </tr>\n",
       "  </tbody>\n",
       "</table>\n",
       "<p>542 rows × 5 columns</p>\n",
       "</div>"
      ],
      "text/plain": [
       "     like_tvsports  like_sports  like_museums  like_theater  like_shopping\n",
       "0        -0.911937     0.991623     -2.932342     -2.558505       0.912411\n",
       "1        -0.911937    -1.290584      0.497160      0.984669      -0.999912\n",
       "2         1.229305    -1.290584     -0.972626      0.098875       0.912411\n",
       "3        -1.268811    -2.051320     -0.482697      0.984669      -1.764841\n",
       "4        -0.198190     0.230888     -0.482697     -0.344021       0.912411\n",
       "..             ...          ...           ...           ...            ...\n",
       "546       1.229305     1.371991     -1.952484     -1.229815      -0.617447\n",
       "547       0.158684     0.611255      0.007231      0.541772       0.912411\n",
       "548      -0.555064    -0.529848      0.007231      0.098875       0.147482\n",
       "549      -1.268811    -0.149480      0.007231     -0.786918       0.529946\n",
       "550      -0.911937     0.611255      1.477018      0.098875       0.529946\n",
       "\n",
       "[542 rows x 5 columns]"
      ]
     },
     "execution_count": 49,
     "metadata": {},
     "output_type": "execute_result"
    }
   ],
   "source": [
    "sd_like"
   ]
  },
  {
   "cell_type": "code",
   "execution_count": 50,
   "metadata": {},
   "outputs": [
    {
     "data": {
      "text/plain": [
       "array([ 6., 10.,  7.,  7.,  6.,  9.,  8.,  8.,  8.,  8.,  9.,  6.,  6.,\n",
       "        6.,  8.,  8.,  4.,  6.,  8.,  8.,  7.,  8., 10.,  6.,  9.,  5.,\n",
       "        8.,  7.,  8.,  6.,  9., 10.,  7.,  7.,  9.,  5.,  2., 10.,  7.,\n",
       "        6.,  9.,  9.,  8.,  6.,  7.,  7.,  4.,  9.,  5.,  5.,  3.,  9.,\n",
       "        7.,  9.,  6.,  9.,  5., 10.,  7., 10.,  8.,  8.,  8.,  6., 10.,\n",
       "        8.,  8.,  7.,  5.,  5., 10.,  8.,  7.,  6.,  9.,  4., 10.,  7.,\n",
       "        8.,  8.,  9.,  8.,  4.,  9., 10.,  8., 10.,  7., 10.,  7.,  9.,\n",
       "        7.,  8.,  8.,  7.,  6.,  6.,  8.,  5.,  8.,  7.,  8.,  9.,  7.,\n",
       "        7., 10.,  7.,  9.,  9.,  8.,  8., 10., 10.,  8.,  9., 10.,  7.,\n",
       "        6.,  2.,  8.,  9., 10.,  1.,  5.,  9.,  6.,  8.,  5.,  6.,  8.,\n",
       "        7.,  4.,  9., 10.,  9.,  3.,  6.,  9.,  7.,  8., 10., 10., 10.,\n",
       "        6.,  7.,  8., 10., 10.,  8., 10., 10.,  7.,  8.,  8.,  6.,  9.,\n",
       "        5.,  8.,  7., 10.,  9.,  6.,  5.,  4.,  9.,  9.,  7.,  7.,  8.,\n",
       "        6.,  5.,  9.,  8., 10.,  6.,  9.,  7.,  7.,  8.,  9.,  6., 10.,\n",
       "        7.,  9.,  8.,  7.,  9., 10.,  9., 10.,  6.,  9.,  4., 10.,  8.,\n",
       "        7.,  8.,  7.,  8.,  9.,  9.,  3.,  8.,  3.,  9.,  9.,  8.,  8.,\n",
       "        3.,  9., 13., 10.,  5.,  7., 10.,  8.,  9.,  9., 10.,  8.,  4.,\n",
       "       10.,  9.,  8., 10.,  9.,  7.,  5.,  9.,  7.,  7., 10.,  7.,  9.,\n",
       "       10.,  4., 10.,  9., 13.,  9.,  8.,  5.,  6., 10., 10.,  9.,  9.,\n",
       "       10.,  9.,  6.,  5., 10., 10.,  8.,  9.,  9., 10.,  9.,  9., 10.,\n",
       "        5.,  3.,  8., 10.,  9.,  7.,  9.,  2., 10., 10.,  9.,  8.,  9.,\n",
       "        9., 10.,  6.,  9.,  8.,  9.,  9.,  8., 10.,  9., 10., 10.,  7.,\n",
       "        7.,  9., 10., 10.,  9., 10., 10.,  9.,  8.,  9.,  5., 10.,  8.,\n",
       "        8.,  6., 10.,  7.,  9.,  9.,  7.,  8.,  6.,  6.,  7.,  9.,  4.,\n",
       "        7.,  5., 10.,  5.,  7.,  7.,  7.,  9.,  9., 10., 10., 10.,  5.,\n",
       "        9.,  9.,  8.,  5.,  8.,  9.,  7.,  8., 10.,  7.,  5.,  4.,  9.,\n",
       "        2., 10.,  7.,  9., 10.,  5.,  6.,  8.,  9.,  8., 10.,  9., 10.,\n",
       "        7., 10.,  6.,  7.,  9.,  8.,  9.,  5.,  9., 10.,  7.,  4.,  9.,\n",
       "        8.,  5.,  5.,  3.,  6.,  7.,  6.,  5.,  9.,  8.,  6.,  6.,  9.,\n",
       "        8.,  7.,  7., 10., 10.,  9., 10.,  9., 10.,  9., 10.,  7.,  7.,\n",
       "        9.,  7.,  5.,  3.,  5.,  8.,  8.,  7.,  9.,  6.,  7.,  8.,  8.,\n",
       "        8.,  6., 10.,  7., 10.,  9.,  9.,  5.,  7.,  9.,  5.,  5.,  5.,\n",
       "        8.,  7.,  9.,  4., 10.,  6.,  7.,  2.,  9.,  9.,  9.,  6.,  9.,\n",
       "        3.,  9.,  6.,  6.,  2., 10.,  6.,  6.,  7.,  9.,  5.,  6.,  8.,\n",
       "        6.,  9., 10.,  8., 10.,  9.,  4.,  9.,  2.,  3.,  5.,  3.,  9.,\n",
       "        8.,  9.,  8.,  7., 10.,  7.,  8.,  9.,  8.,  4.,  3.,  7.,  8.,\n",
       "        5., 10.,  8.,  9., 10.,  9.,  9.,  8.,  7.,  8.,  6.,  9.,  8.,\n",
       "       10.,  7.,  8.,  5.,  7.,  7.,  8.,  9.,  8.,  9.,  7.,  6.,  6.,\n",
       "       10.,  9.,  8., 10.,  6.,  9.,  8.,  9.,  9.,  8.,  9.,  9.,  9.,\n",
       "        9.,  9., 10.,  8.,  9., 13.,  7.,  8.,  8.,  6.,  2.,  5.,  3.,\n",
       "        6.,  9.,  3.,  7.,  8.,  8., 10.,  8.,  8.,  7.,  3.,  9.,  8.,\n",
       "        2.,  7.,  2.,  9.,  9.,  7.,  8., 10.,  8.])"
      ]
     },
     "execution_count": 50,
     "metadata": {},
     "output_type": "execute_result"
    }
   ],
   "source": [
    "reading = sd['like_reading'].values\n",
    "reading "
   ]
  },
  {
   "cell_type": "markdown",
   "metadata": {},
   "source": [
    "**8.A) Linear regression cross-validated on original variables (`sd_like.values`).**\n",
    "\n",
    "- What is the mean cross-validation score?\n",
    "- Keep in mind that linear regression uses $R^2$ for score, so one is the ideal score."
   ]
  },
  {
   "cell_type": "code",
   "execution_count": 51,
   "metadata": {},
   "outputs": [
    {
     "data": {
      "text/plain": [
       "array([[ 2.,  9.,  1.,  1.,  8.],\n",
       "       [ 2.,  3.,  8.,  9.,  3.],\n",
       "       [ 8.,  3.,  5.,  7.,  8.],\n",
       "       ...,\n",
       "       [ 3.,  5.,  7.,  7.,  6.],\n",
       "       [ 1.,  6.,  7.,  5.,  7.],\n",
       "       [ 2.,  8., 10.,  7.,  7.]])"
      ]
     },
     "execution_count": 51,
     "metadata": {},
     "output_type": "execute_result"
    }
   ],
   "source": [
    "sd_like_original.values"
   ]
  },
  {
   "cell_type": "code",
   "execution_count": 52,
   "metadata": {},
   "outputs": [
    {
     "name": "stdout",
     "output_type": "stream",
     "text": [
      "Cross val score: [-0.00452896  0.13167438  0.02237835  0.17929338  0.13084444]\n",
      "Cross val mean score: 0.09193231749299235\n"
     ]
    }
   ],
   "source": [
    "lr = LinearRegression()\n",
    "print(f'Cross val score: {cross_val_score(lr, sd_like.values,reading, cv=5)}')\n",
    "print(f'Cross val mean score: {cross_val_score(lr, sd_like.values,reading, cv=5).mean()}')"
   ]
  },
  {
   "cell_type": "code",
   "execution_count": 53,
   "metadata": {},
   "outputs": [
    {
     "data": {
      "text/plain": [
       "like_tvsports   -0.179136\n",
       "like_sports     -0.125536\n",
       "like_museums     0.642566\n",
       "like_theater     0.155960\n",
       "like_shopping   -0.199333\n",
       "dtype: float64"
      ]
     },
     "execution_count": 53,
     "metadata": {},
     "output_type": "execute_result"
    }
   ],
   "source": [
    "lr.fit(sd_like.values, reading)\n",
    "pd.Series(lr.coef_, index = sd_like.columns)"
   ]
  },
  {
   "cell_type": "markdown",
   "metadata": {},
   "source": [
    "**8.B) Linear regression on the first principal component.**\n",
    "\n",
    "- What is the mean cross-validation score?"
   ]
  },
  {
   "cell_type": "code",
   "execution_count": 54,
   "metadata": {},
   "outputs": [
    {
     "data": {
      "text/plain": [
       "array([[ 2.79038922e+00],\n",
       "       [-1.32191571e+00],\n",
       "       [-3.46090924e-02],\n",
       "       [-9.96417602e-01],\n",
       "       [ 1.65132794e-01],\n",
       "       [ 1.79158102e+00],\n",
       "       [-2.56285754e+00],\n",
       "       [-2.39880957e+00],\n",
       "       [-1.45612753e+00],\n",
       "       [ 1.19742189e+00],\n",
       "       [ 1.32551542e+00],\n",
       "       [ 1.48932852e+00],\n",
       "       [-1.40871230e-01],\n",
       "       [ 2.66609119e+00],\n",
       "       [ 1.37152664e+00],\n",
       "       [-3.04475099e-01],\n",
       "       [ 3.88622432e-01],\n",
       "       [ 2.01036657e+00],\n",
       "       [ 2.99636943e+00],\n",
       "       [ 4.78243567e-01],\n",
       "       [ 2.27056041e+00],\n",
       "       [-2.05730927e+00],\n",
       "       [-2.41433952e+00],\n",
       "       [ 5.77809214e-01],\n",
       "       [-8.87053769e-02],\n",
       "       [-1.23267423e-01],\n",
       "       [ 5.28753577e-01],\n",
       "       [ 7.71329534e-01],\n",
       "       [ 5.80197813e-01],\n",
       "       [-1.62838172e+00],\n",
       "       [-6.82878569e-01],\n",
       "       [-9.75675440e-01],\n",
       "       [ 2.67826549e-01],\n",
       "       [-1.74462717e-01],\n",
       "       [-9.58111787e-01],\n",
       "       [-1.23917421e+00],\n",
       "       [ 1.69778390e-01],\n",
       "       [-2.75111391e+00],\n",
       "       [ 7.77682703e-01],\n",
       "       [ 6.00413514e-01],\n",
       "       [ 6.41039632e-01],\n",
       "       [ 1.18990096e+00],\n",
       "       [-3.42792490e-01],\n",
       "       [ 5.97855844e-01],\n",
       "       [ 2.05010494e+00],\n",
       "       [ 1.14101439e+00],\n",
       "       [-1.83571035e+00],\n",
       "       [ 2.04774199e+00],\n",
       "       [ 1.35182334e+00],\n",
       "       [ 2.79632437e+00],\n",
       "       [ 2.23480069e+00],\n",
       "       [-5.46996832e-01],\n",
       "       [-2.24333913e-01],\n",
       "       [ 2.01672224e+00],\n",
       "       [-1.51818110e+00],\n",
       "       [-1.97456777e+00],\n",
       "       [-1.20043880e+00],\n",
       "       [-3.18240442e+00],\n",
       "       [ 1.32644583e+00],\n",
       "       [-1.27442154e+00],\n",
       "       [-2.23807451e-01],\n",
       "       [-8.63346736e-01],\n",
       "       [ 9.84668009e-01],\n",
       "       [ 2.62054196e+00],\n",
       "       [-8.35847462e-01],\n",
       "       [ 3.05600582e+00],\n",
       "       [ 3.84408920e-01],\n",
       "       [ 3.48943597e+00],\n",
       "       [-3.93606432e-02],\n",
       "       [ 2.09969861e+00],\n",
       "       [-8.91332318e-01],\n",
       "       [ 4.99335447e-01],\n",
       "       [-1.35264636e+00],\n",
       "       [-1.30805318e+00],\n",
       "       [-1.62487532e+00],\n",
       "       [-1.87421088e+00],\n",
       "       [ 7.97934670e-02],\n",
       "       [-1.61123608e+00],\n",
       "       [-1.04548482e+00],\n",
       "       [-4.81927430e-01],\n",
       "       [-1.29724913e+00],\n",
       "       [-8.74388149e-01],\n",
       "       [-8.65797907e-02],\n",
       "       [ 3.98048156e-01],\n",
       "       [-4.72959872e-01],\n",
       "       [-1.61804991e+00],\n",
       "       [ 6.73783518e-01],\n",
       "       [-1.55742890e+00],\n",
       "       [-1.56894005e+00],\n",
       "       [-1.34588676e+00],\n",
       "       [ 4.63117558e-01],\n",
       "       [ 2.76177640e+00],\n",
       "       [-1.08587606e+00],\n",
       "       [ 2.89057703e+00],\n",
       "       [ 2.08133347e+00],\n",
       "       [-2.06927860e+00],\n",
       "       [-1.51689347e-01],\n",
       "       [-4.50839387e-01],\n",
       "       [ 2.47269090e+00],\n",
       "       [ 1.19083136e+00],\n",
       "       [-1.34543707e-01],\n",
       "       [ 1.71353933e+00],\n",
       "       [-5.10807521e-01],\n",
       "       [ 1.11628201e+00],\n",
       "       [ 5.90752918e-01],\n",
       "       [-1.86011348e+00],\n",
       "       [-2.84482694e-01],\n",
       "       [ 2.13129111e-01],\n",
       "       [-1.53895972e-02],\n",
       "       [-2.31138232e+00],\n",
       "       [ 1.75607024e+00],\n",
       "       [ 8.86908946e-01],\n",
       "       [-2.44838918e+00],\n",
       "       [-1.76078406e-01],\n",
       "       [-1.19404299e+00],\n",
       "       [-7.67715753e-01],\n",
       "       [-2.16286430e+00],\n",
       "       [ 6.29124534e-01],\n",
       "       [ 2.96720024e+00],\n",
       "       [-1.31248999e+00],\n",
       "       [-2.61410706e+00],\n",
       "       [ 3.68460956e-01],\n",
       "       [ 3.03207492e+00],\n",
       "       [ 2.47690441e+00],\n",
       "       [ 1.70504401e+00],\n",
       "       [ 2.45339153e+00],\n",
       "       [ 1.42540071e-01],\n",
       "       [ 8.64806790e-01],\n",
       "       [-7.08905141e-01],\n",
       "       [-1.35080738e+00],\n",
       "       [-1.30170001e+00],\n",
       "       [ 1.43005591e+00],\n",
       "       [ 7.08514635e-01],\n",
       "       [-5.96341565e-01],\n",
       "       [ 1.08480409e+00],\n",
       "       [ 1.09798516e+00],\n",
       "       [ 5.82560765e-01],\n",
       "       [-9.55459739e-01],\n",
       "       [ 1.63997461e+00],\n",
       "       [-2.89943721e+00],\n",
       "       [-1.40205690e+00],\n",
       "       [-7.11268093e-01],\n",
       "       [-1.48312849e+00],\n",
       "       [-5.24874879e-02],\n",
       "       [ 2.31164469e+00],\n",
       "       [-1.88951754e+00],\n",
       "       [-2.05333063e+00],\n",
       "       [-6.18991415e-02],\n",
       "       [ 1.40774453e+00],\n",
       "       [-2.13184455e+00],\n",
       "       [-2.03564696e+00],\n",
       "       [ 9.36993189e-01],\n",
       "       [-2.54606397e-01],\n",
       "       [-3.67404844e-01],\n",
       "       [ 1.35839980e+00],\n",
       "       [ 1.07826778e+00],\n",
       "       [ 3.77724608e-02],\n",
       "       [ 6.33591956e-02],\n",
       "       [ 1.07589076e+00],\n",
       "       [-7.98749571e-01],\n",
       "       [ 1.63501134e+00],\n",
       "       [ 1.22375589e+00],\n",
       "       [ 1.11889390e+00],\n",
       "       [ 5.20997766e-01],\n",
       "       [-1.22484193e+00],\n",
       "       [ 4.83805496e-01],\n",
       "       [ 1.39059889e+00],\n",
       "       [ 2.28136446e+00],\n",
       "       [-4.00801614e-01],\n",
       "       [ 2.45497276e-01],\n",
       "       [-8.54865487e-01],\n",
       "       [ 8.06811736e-01],\n",
       "       [-1.23610415e+00],\n",
       "       [-1.07181881e+00],\n",
       "       [-1.33822528e-01],\n",
       "       [-1.90944414e+00],\n",
       "       [ 1.83622167e+00],\n",
       "       [-2.88931078e-01],\n",
       "       [-8.61968413e-01],\n",
       "       [-7.24435092e-01],\n",
       "       [ 5.17895305e-01],\n",
       "       [-9.62980678e-01],\n",
       "       [-1.11412892e+00],\n",
       "       [ 6.96322016e-01],\n",
       "       [ 2.68372064e+00],\n",
       "       [ 1.41946491e+00],\n",
       "       [ 2.32482576e+00],\n",
       "       [-8.86343401e-01],\n",
       "       [ 4.25561501e-01],\n",
       "       [ 1.80402258e+00],\n",
       "       [-1.48525657e+00],\n",
       "       [-4.58876540e-01],\n",
       "       [-1.06991403e+00],\n",
       "       [-9.12940412e-01],\n",
       "       [ 4.44557701e-01],\n",
       "       [ 4.13827049e-01],\n",
       "       [ 6.65302269e-01],\n",
       "       [-4.62895335e-01],\n",
       "       [-2.45664487e-01],\n",
       "       [ 1.52312923e+00],\n",
       "       [-1.56375097e-01],\n",
       "       [ 9.79761458e-01],\n",
       "       [-5.55896094e-01],\n",
       "       [-5.98137096e-02],\n",
       "       [-2.33009880e-01],\n",
       "       [-1.08378814e+00],\n",
       "       [-5.67212532e-01],\n",
       "       [-8.45952154e-01],\n",
       "       [-2.50902782e-01],\n",
       "       [ 1.44091419e+00],\n",
       "       [-4.54886323e-01],\n",
       "       [-1.13106151e+00],\n",
       "       [ 1.42345354e-01],\n",
       "       [ 5.10139494e-01],\n",
       "       [ 9.61476626e-01],\n",
       "       [ 8.80514211e-02],\n",
       "       [-1.61170832e+00],\n",
       "       [ 8.20202031e-01],\n",
       "       [ 6.71366341e-01],\n",
       "       [ 6.43907222e-01],\n",
       "       [ 1.54242859e+00],\n",
       "       [-3.56600797e-01],\n",
       "       [ 9.71028773e-01],\n",
       "       [ 3.89622897e+00],\n",
       "       [-3.44704663e+00],\n",
       "       [-7.27284352e-01],\n",
       "       [ 3.62105293e-01],\n",
       "       [ 2.18287098e-01],\n",
       "       [-8.99066304e-01],\n",
       "       [-2.71279652e+00],\n",
       "       [ 1.00423083e+00],\n",
       "       [-1.37785098e+00],\n",
       "       [-1.19168003e+00],\n",
       "       [-6.88966960e-01],\n",
       "       [-9.42513541e-01],\n",
       "       [ 7.60222320e-01],\n",
       "       [-7.25379567e-01],\n",
       "       [ 7.06151683e-01],\n",
       "       [-2.37500912e-01],\n",
       "       [-4.12590291e-01],\n",
       "       [ 2.71209364e-03],\n",
       "       [ 2.14737343e+00],\n",
       "       [ 8.40069793e-02],\n",
       "       [ 1.52532311e+00],\n",
       "       [-1.56657710e+00],\n",
       "       [ 6.85045732e-01],\n",
       "       [-1.58608569e+00],\n",
       "       [-1.40437969e+00],\n",
       "       [-1.28360990e+00],\n",
       "       [ 7.30338618e-02],\n",
       "       [-4.09282864e-01],\n",
       "       [-4.01050557e-01],\n",
       "       [-2.42888591e-02],\n",
       "       [ 1.06127465e-01],\n",
       "       [ 1.11629608e+00],\n",
       "       [-9.85336035e-01],\n",
       "       [ 3.00906419e+00],\n",
       "       [-1.79878535e+00],\n",
       "       [ 8.71855492e-01],\n",
       "       [ 2.07022390e-01],\n",
       "       [ 8.87634385e-01],\n",
       "       [-1.30712313e-01],\n",
       "       [ 1.84395566e+00],\n",
       "       [-6.43377572e-01],\n",
       "       [-1.63200503e-01],\n",
       "       [-1.22738553e+00],\n",
       "       [-1.30353650e+00],\n",
       "       [-1.85793226e-01],\n",
       "       [-6.04587943e-01],\n",
       "       [-4.66672505e-01],\n",
       "       [ 5.71035538e-01],\n",
       "       [ 1.05496795e+00],\n",
       "       [-6.25759695e-01],\n",
       "       [ 2.51539087e+00],\n",
       "       [ 5.25629291e-01],\n",
       "       [ 8.38238383e-02],\n",
       "       [ 1.98945784e+00],\n",
       "       [ 2.27241097e+00],\n",
       "       [ 2.66185214e-01],\n",
       "       [-7.66416750e-02],\n",
       "       [-2.98356802e-01],\n",
       "       [-4.99113224e-01],\n",
       "       [ 1.65262922e+00],\n",
       "       [ 2.68769928e+00],\n",
       "       [ 1.12569366e+00],\n",
       "       [ 9.81652173e-01],\n",
       "       [ 1.19197481e+00],\n",
       "       [-4.26161232e-01],\n",
       "       [-1.39824733e+00],\n",
       "       [-2.46858341e-01],\n",
       "       [-1.35478602e+00],\n",
       "       [-2.41268368e+00],\n",
       "       [-2.98709934e+00],\n",
       "       [-7.89572789e-01],\n",
       "       [-1.39195996e+00],\n",
       "       [-8.92988161e-01],\n",
       "       [ 1.60566151e+00],\n",
       "       [-1.29724913e+00],\n",
       "       [-4.45984567e-01],\n",
       "       [-7.91463504e-01],\n",
       "       [-4.12103983e-01],\n",
       "       [-5.36178714e-01],\n",
       "       [-3.69767796e-01],\n",
       "       [-4.80022645e-01],\n",
       "       [-7.39744242e-01],\n",
       "       [ 7.30649191e-01],\n",
       "       [ 5.48038873e-01],\n",
       "       [ 2.36294844e+00],\n",
       "       [ 1.02533678e+00],\n",
       "       [-1.16690959e-01],\n",
       "       [ 1.41525140e+00],\n",
       "       [-1.03564114e-01],\n",
       "       [ 7.10379265e-01],\n",
       "       [ 2.73310553e+00],\n",
       "       [-1.24897182e-01],\n",
       "       [ 1.21053467e+00],\n",
       "       [ 8.26280174e-01],\n",
       "       [-1.08355327e+00],\n",
       "       [-5.99162684e-01],\n",
       "       [-8.05744048e-01],\n",
       "       [-2.66581474e+00],\n",
       "       [-1.49936804e+00],\n",
       "       [-1.40981271e+00],\n",
       "       [-1.94638321e+00],\n",
       "       [ 2.33614220e+00],\n",
       "       [ 4.10696393e-02],\n",
       "       [-1.44506004e+00],\n",
       "       [ 2.69474799e+00],\n",
       "       [-1.01914558e-02],\n",
       "       [ 5.48680181e-01],\n",
       "       [-3.83828684e-03],\n",
       "       [ 8.37596612e-01],\n",
       "       [-1.67658301e+00],\n",
       "       [-2.94878195e+00],\n",
       "       [-2.01686380e+00],\n",
       "       [-1.75904699e+00],\n",
       "       [-3.09146778e-01],\n",
       "       [-2.43619209e-01],\n",
       "       [ 9.01471013e-02],\n",
       "       [-2.66154700e+00],\n",
       "       [-1.26291038e+00],\n",
       "       [-6.03679363e-01],\n",
       "       [-2.01572035e+00],\n",
       "       [-1.19168003e+00],\n",
       "       [-2.00605976e+00],\n",
       "       [-4.39563102e-01],\n",
       "       [-9.95956941e-01],\n",
       "       [ 6.15250426e-01],\n",
       "       [-2.44624952e+00],\n",
       "       [ 6.61492699e-01],\n",
       "       [ 6.80972712e-01],\n",
       "       [ 4.63171783e-01],\n",
       "       [-1.43402112e+00],\n",
       "       [ 2.32330277e-01],\n",
       "       [ 1.52200667e-01],\n",
       "       [ 1.84679085e+00],\n",
       "       [-5.29597253e-02],\n",
       "       [-5.24169237e-01],\n",
       "       [ 1.49003562e+00],\n",
       "       [-1.10563360e+00],\n",
       "       [-4.06158210e-03],\n",
       "       [ 2.16764336e+00],\n",
       "       [ 3.44216510e+00],\n",
       "       [ 4.46751582e-01],\n",
       "       [ 7.89640450e-01],\n",
       "       [ 6.08201724e-01],\n",
       "       [ 1.83974214e+00],\n",
       "       [-8.04395631e-01],\n",
       "       [ 2.01038065e+00],\n",
       "       [ 2.26865562e+00],\n",
       "       [-4.21489553e-01],\n",
       "       [ 4.88322175e-01],\n",
       "       [-4.32991296e-02],\n",
       "       [-1.27863505e+00],\n",
       "       [ 9.73211078e-01],\n",
       "       [-1.31319710e+00],\n",
       "       [-1.87397352e+00],\n",
       "       [-1.94520387e+00],\n",
       "       [-5.55701376e-01],\n",
       "       [ 1.18420067e+00],\n",
       "       [-3.82421636e-03],\n",
       "       [-3.20477287e-01],\n",
       "       [ 1.27633976e+00],\n",
       "       [-1.82203096e+00],\n",
       "       [-1.33035681e+00],\n",
       "       [-1.96566851e+00],\n",
       "       [-1.87610160e+00],\n",
       "       [-1.92117859e+00],\n",
       "       [ 8.42282362e-01],\n",
       "       [-9.10382742e-01],\n",
       "       [ 1.71002150e-01],\n",
       "       [ 8.37542388e-01],\n",
       "       [-5.65138677e-01],\n",
       "       [ 9.46115746e-01],\n",
       "       [ 2.50134769e+00],\n",
       "       [ 7.86570389e-01],\n",
       "       [-1.99270962e+00],\n",
       "       [ 1.88880545e-01],\n",
       "       [-5.46996832e-01],\n",
       "       [ 1.05571522e+00],\n",
       "       [ 8.02060186e-01],\n",
       "       [ 4.31342207e+00],\n",
       "       [-1.11243875e-01],\n",
       "       [ 1.62355441e+00],\n",
       "       [ 7.28521110e-01],\n",
       "       [-4.86378308e-01],\n",
       "       [-1.83430274e-01],\n",
       "       [-1.50969985e+00],\n",
       "       [-2.08371879e-01],\n",
       "       [-4.17038674e-01],\n",
       "       [-2.18967054e+00],\n",
       "       [-1.44742299e+00],\n",
       "       [ 6.63148542e-01],\n",
       "       [ 1.01385127e+00],\n",
       "       [ 1.16545767e+00],\n",
       "       [ 2.11642339e-01],\n",
       "       [ 1.49561588e+00],\n",
       "       [ 2.48109170e-01],\n",
       "       [-2.55299436e-01],\n",
       "       [ 1.73325671e+00],\n",
       "       [-2.95467388e-01],\n",
       "       [-2.25332146e+00],\n",
       "       [-9.64413226e-01],\n",
       "       [ 1.21453513e+00],\n",
       "       [-1.32329403e+00],\n",
       "       [-8.31854751e-01],\n",
       "       [-1.02809023e+00],\n",
       "       [-8.35887616e-01],\n",
       "       [ 5.98314011e-01],\n",
       "       [ 1.34574519e+00],\n",
       "       [-1.22275401e+00],\n",
       "       [ 3.14222132e+00],\n",
       "       [ 1.38798700e+00],\n",
       "       [ 2.45297352e+00],\n",
       "       [ 1.87781059e+00],\n",
       "       [ 4.22477369e-01],\n",
       "       [ 2.33562981e+00],\n",
       "       [-9.57364524e-01],\n",
       "       [ 3.77818385e-01],\n",
       "       [-1.06831241e+00],\n",
       "       [ 4.16842886e-01],\n",
       "       [ 1.08032250e-01],\n",
       "       [ 9.23812119e-01],\n",
       "       [-6.91275688e-01],\n",
       "       [-2.02154955e+00],\n",
       "       [-1.66646424e+00],\n",
       "       [-1.12869856e+00],\n",
       "       [-1.12591510e+00],\n",
       "       [-1.94284091e+00],\n",
       "       [ 7.56510951e-01],\n",
       "       [ 9.74603471e-01],\n",
       "       [ 1.72011580e+00],\n",
       "       [ 1.50973893e+00],\n",
       "       [ 2.77726619e+00],\n",
       "       [ 1.82405514e+00],\n",
       "       [ 4.79354618e-01],\n",
       "       [-1.31931539e+00],\n",
       "       [ 3.49161589e-01],\n",
       "       [ 7.59305987e-01],\n",
       "       [-3.44704663e+00],\n",
       "       [-1.00623702e+00],\n",
       "       [-4.87306218e-01],\n",
       "       [-5.98704517e-01],\n",
       "       [ 9.48478698e-01],\n",
       "       [-1.65802315e+00],\n",
       "       [ 6.07920382e-01],\n",
       "       [ 7.32499751e-01],\n",
       "       [ 8.60135111e-01],\n",
       "       [ 3.75509658e-01],\n",
       "       [ 2.25779896e-01],\n",
       "       [-1.09673433e+00],\n",
       "       [ 1.11161033e+00],\n",
       "       [-1.97272879e+00],\n",
       "       [-6.71349083e-01],\n",
       "       [ 6.12994105e-02],\n",
       "       [-1.41134242e-01],\n",
       "       [ 4.43649121e-01],\n",
       "       [-8.60789067e-01],\n",
       "       [-7.42760078e-01],\n",
       "       [-1.46035512e+00],\n",
       "       [-8.76762677e-01],\n",
       "       [ 3.26677316e-01],\n",
       "       [ 1.07401412e+00],\n",
       "       [-8.83980449e-01],\n",
       "       [ 6.74201531e-01],\n",
       "       [ 8.92543430e-01],\n",
       "       [ 2.81259356e-02],\n",
       "       [ 5.82506540e-01],\n",
       "       [-2.02628953e+00],\n",
       "       [-7.95914382e-01],\n",
       "       [-1.54611246e+00],\n",
       "       [ 1.69990010e+00],\n",
       "       [-1.27840018e+00],\n",
       "       [ 2.57243304e-01],\n",
       "       [-1.40038698e+00],\n",
       "       [ 7.97609307e-01],\n",
       "       [ 8.82255596e-01],\n",
       "       [ 1.94264512e+00],\n",
       "       [ 2.75373572e-01],\n",
       "       [ 1.17035265e+00],\n",
       "       [-7.62517612e-01],\n",
       "       [-2.53396587e+00],\n",
       "       [-2.41244881e+00],\n",
       "       [-1.53062266e+00],\n",
       "       [ 2.24405396e-01],\n",
       "       [-2.25284922e+00],\n",
       "       [-1.35108490e+00],\n",
       "       [-1.19524066e+00],\n",
       "       [ 6.44365389e-01],\n",
       "       [-1.86478516e+00],\n",
       "       [ 1.63914843e-02],\n",
       "       [-8.91083376e-01],\n",
       "       [ 2.16544948e+00],\n",
       "       [-1.54801724e+00],\n",
       "       [-7.37656316e-01],\n",
       "       [-2.48930688e+00],\n",
       "       [-6.74855487e-01],\n",
       "       [ 2.85672210e+00],\n",
       "       [-3.16209550e-01],\n",
       "       [ 1.36333449e+00],\n",
       "       [ 2.48376442e-01],\n",
       "       [ 1.01996956e+00],\n",
       "       [ 1.34990448e+00],\n",
       "       [ 5.12333376e-01],\n",
       "       [-2.95286741e-01],\n",
       "       [ 4.39186667e-01],\n",
       "       [-1.55268892e+00],\n",
       "       [ 3.69377290e-01],\n",
       "       [ 2.53449710e-02],\n",
       "       [-7.47027815e-01],\n",
       "       [ 2.21932496e+00],\n",
       "       [-1.37732452e+00],\n",
       "       [ 2.83868892e-01],\n",
       "       [-1.26007519e+00],\n",
       "       [ 2.23455175e+00],\n",
       "       [ 1.77086317e+00],\n",
       "       [-2.78127031e-01],\n",
       "       [ 2.90583196e+00],\n",
       "       [-3.15737313e-01],\n",
       "       [-5.17632927e-01],\n",
       "       [-2.07401320e-01],\n",
       "       [-1.02740877e+00]])"
      ]
     },
     "execution_count": 54,
     "metadata": {},
     "output_type": "execute_result"
    }
   ],
   "source": [
    "#the first principal component\n",
    "sd_like_transformed[:,0:1]"
   ]
  },
  {
   "cell_type": "code",
   "execution_count": 55,
   "metadata": {},
   "outputs": [
    {
     "name": "stdout",
     "output_type": "stream",
     "text": [
      "Cross val score: [-0.0023653   0.125695   -0.04543447  0.10281085  0.08638025]\n",
      "Cross val mean score: 0.05341726555351918\n"
     ]
    }
   ],
   "source": [
    "print(f'Cross val score: {cross_val_score(lr, sd_like_transformed[:,0:1],reading, cv=5)}')\n",
    "print(f'Cross val mean score: {cross_val_score(lr, sd_like_transformed[:,0:1],reading, cv=5).mean()}')"
   ]
  },
  {
   "cell_type": "code",
   "execution_count": 56,
   "metadata": {},
   "outputs": [
    {
     "data": {
      "text/plain": [
       "like_tvsports   -0.461768\n",
       "like_sports     -0.002396\n",
       "like_museums    -0.475953\n",
       "like_theater    -0.162301\n",
       "like_shopping    0.242259\n",
       "dtype: float64"
      ]
     },
     "execution_count": 56,
     "metadata": {},
     "output_type": "execute_result"
    }
   ],
   "source": [
    "lr.fit(sd_like_transformed, reading)\n",
    "pd.Series(lr.coef_, index = sd_like.columns)"
   ]
  },
  {
   "cell_type": "markdown",
   "metadata": {},
   "source": [
    "**8.C) Linear regression on first three principal components.**\n",
    "\n",
    "- What is the mean cross-validation score?"
   ]
  },
  {
   "cell_type": "code",
   "execution_count": 57,
   "metadata": {},
   "outputs": [
    {
     "data": {
      "text/plain": [
       "array([[ 2.79038922, -1.37876855,  2.52125503],\n",
       "       [-1.32191571, -1.20239102, -1.0868018 ],\n",
       "       [-0.03460909,  0.13788089,  1.39984296],\n",
       "       ...,\n",
       "       [-0.51763293, -0.56328952,  0.18435826],\n",
       "       [-0.20740132, -0.92756654,  0.64585092],\n",
       "       [-1.02740877,  0.42042795, -0.34332119]])"
      ]
     },
     "execution_count": 57,
     "metadata": {},
     "output_type": "execute_result"
    }
   ],
   "source": [
    "#the first three principal components\n",
    "sd_like_transformed[:,0:3]"
   ]
  },
  {
   "cell_type": "code",
   "execution_count": 58,
   "metadata": {},
   "outputs": [
    {
     "name": "stdout",
     "output_type": "stream",
     "text": [
      "Cross val score: [-0.03413068  0.13162289  0.04945168  0.19108757  0.12503821]\n",
      "Cross val mean score: 0.09261393310796404\n"
     ]
    }
   ],
   "source": [
    "print(f'Cross val score: {cross_val_score(lr, sd_like_transformed[:,0:3],reading, cv=5)}')\n",
    "print(f'Cross val mean score: {cross_val_score(lr, sd_like_transformed[:,0:3],reading, cv=5).mean()}')"
   ]
  },
  {
   "cell_type": "code",
   "execution_count": 59,
   "metadata": {},
   "outputs": [],
   "source": [
    "#The prediction accuracy using only the first principal component as features is the lowest \n",
    "#but the prediction accuracy using only the first three principal components as features are about the same as using all five original values as features."
   ]
  },
  {
   "cell_type": "markdown",
   "metadata": {},
   "source": [
    "---\n",
    "\n",
    "**Check yourself**. The mean cross-validation score should be nearly the same for the first three principal components as it was on the original five-component data."
   ]
  }
 ],
 "metadata": {
  "kernelspec": {
   "display_name": "Python 3 (ipykernel)",
   "language": "python",
   "name": "python3"
  },
  "language_info": {
   "codemirror_mode": {
    "name": "ipython",
    "version": 3
   },
   "file_extension": ".py",
   "mimetype": "text/x-python",
   "name": "python",
   "nbconvert_exporter": "python",
   "pygments_lexer": "ipython3",
   "version": "3.9.12"
  }
 },
 "nbformat": 4,
 "nbformat_minor": 1
}
